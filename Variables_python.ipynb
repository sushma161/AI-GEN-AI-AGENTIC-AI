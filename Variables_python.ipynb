{
 "cells": [
  {
   "cell_type": "markdown",
   "id": "937f2cde-8151-4850-bedf-8ea4f5cc3c89",
   "metadata": {},
   "source": [
    "# Variables in Python"
   ]
  },
  {
   "cell_type": "code",
   "execution_count": null,
   "id": "1c7960fb-8142-4ad9-8dc1-df21fc2db0dd",
   "metadata": {},
   "outputs": [],
   "source": [
    "f_name = 'Saisushma' \n",
    "l_name = 'patil'\n",
    "country = 'India'\n",
    "city = 'Sindhanur'\n",
    "age = 25\n",
    "is_married = False\n",
    "Skills = ['c++','c','ADAS','python']\n",
    "person_info = {\n",
    "    'f_name':'Basavana gowda',\n",
    "    'l_name':'uppal',\n",
    "    'country':'India',\n",
    "    'city': 'sindhanur'"
   ]
  },
  {
   "cell_type": "markdown",
   "id": "6ae00b42-05ee-432e-937b-808754a0e661",
   "metadata": {},
   "source": [
    "# How to print the values stored in the variable "
   ]
  },
  {
   "cell_type": "code",
   "execution_count": 6,
   "id": "bdb0a074-9021-45cb-9c44-58d61a36da5d",
   "metadata": {},
   "outputs": [
    {
     "name": "stdout",
     "output_type": "stream",
     "text": [
      "Country: US\n"
     ]
    }
   ],
   "source": [
    "country ='US'\n",
    "print('Country:',country )"
   ]
  },
  {
   "cell_type": "code",
   "execution_count": 4,
   "id": "3a9b1b2b-2d20-4d2e-8f1a-cc26d65fda83",
   "metadata": {},
   "outputs": [
    {
     "name": "stdout",
     "output_type": "stream",
     "text": [
      "firstname length: 9\n"
     ]
    }
   ],
   "source": [
    "f_name = 'Saisushma'\n",
    "print('firstname length:',len(f_name))"
   ]
  },
  {
   "cell_type": "code",
   "execution_count": 5,
   "id": "f36bd697-f065-4f2c-ac0a-732728193cf7",
   "metadata": {},
   "outputs": [
    {
     "name": "stdout",
     "output_type": "stream",
     "text": [
      "last name: patil\n"
     ]
    }
   ],
   "source": [
    "l_name = 'patil'\n",
    "print('last name:' , l_name)"
   ]
  },
  {
   "cell_type": "code",
   "execution_count": 6,
   "id": "ad1d9268-ca4d-46e2-8621-483de861793c",
   "metadata": {},
   "outputs": [
    {
     "name": "stdout",
     "output_type": "stream",
     "text": [
      "last name length: 5\n"
     ]
    }
   ],
   "source": [
    "print('last name length:' ,len(l_name))"
   ]
  },
  {
   "cell_type": "code",
   "execution_count": 7,
   "id": "07bb633b-85b0-480d-b288-16d767c59c7d",
   "metadata": {},
   "outputs": [
    {
     "name": "stdout",
     "output_type": "stream",
     "text": [
      "country name: 5\n"
     ]
    }
   ],
   "source": [
    "country = 'India'\n",
    "print('country name:' ,len(country))"
   ]
  },
  {
   "cell_type": "code",
   "execution_count": 8,
   "id": "5632ac69-a1ab-4c45-b0d3-c641fef8e31f",
   "metadata": {},
   "outputs": [
    {
     "name": "stdout",
     "output_type": "stream",
     "text": [
      "city: sindhnaur\n"
     ]
    }
   ],
   "source": [
    "city = 'sindhnaur'\n",
    "print('city:', city)"
   ]
  },
  {
   "cell_type": "code",
   "execution_count": 11,
   "id": "c66ef138-9b73-48f0-b445-473c8dc10056",
   "metadata": {},
   "outputs": [
    {
     "name": "stdout",
     "output_type": "stream",
     "text": [
      "Age: 25\n"
     ]
    }
   ],
   "source": [
    "age = 25\n",
    "print('Age:' ,age)"
   ]
  },
  {
   "cell_type": "code",
   "execution_count": 15,
   "id": "201f6747-0d97-4abb-a776-073e01c51d0d",
   "metadata": {},
   "outputs": [
    {
     "name": "stdout",
     "output_type": "stream",
     "text": [
      "Married: False\n"
     ]
    }
   ],
   "source": [
    "is_married = False \n",
    "print('Married:' , is_married)"
   ]
  },
  {
   "cell_type": "code",
   "execution_count": 17,
   "id": "5c54b569-8c8e-406b-b166-47af463a26e0",
   "metadata": {},
   "outputs": [
    {
     "name": "stdout",
     "output_type": "stream",
     "text": [
      "Skills: ['c++', 'c', 'ADAS', 'python']\n"
     ]
    }
   ],
   "source": [
    "skills = ['c++','c','ADAS','python']\n",
    "print('Skills:', skills) "
   ]
  },
  {
   "cell_type": "code",
   "execution_count": 18,
   "id": "a5f284f7-d020-4932-9cab-62cd527efa10",
   "metadata": {},
   "outputs": [
    {
     "name": "stdout",
     "output_type": "stream",
     "text": [
      "person information: {'f_name': 'Basavana gowda', 'l_name': 'uppal', 'country': 'India', 'city': 'sindhanur'}\n"
     ]
    }
   ],
   "source": [
    "person_info = {\n",
    "    'f_name':'Basavana gowda',\n",
    "    'l_name':'uppal',\n",
    "    'country':'India',\n",
    "    'city': 'sindhanur'}\n",
    "print('person information:' ,person_info)"
   ]
  },
  {
   "cell_type": "markdown",
   "id": "6f9245fe-e032-4044-8ef9-2ffc5d33387e",
   "metadata": {},
   "source": [
    "# Declaring multiple variables in one line"
   ]
  },
  {
   "cell_type": "code",
   "execution_count": null,
   "id": "cf52941b-8103-4a59-bcf5-37c57a970d49",
   "metadata": {},
   "outputs": [],
   "source": [
    "f_name, l_name, country , age , is_married ='saisushma','patil','India',25,False"
   ]
  },
  {
   "cell_type": "code",
   "execution_count": 19,
   "id": "ee7fa74e-fd5c-412c-949b-cba2fd1a503b",
   "metadata": {},
   "outputs": [
    {
     "name": "stdout",
     "output_type": "stream",
     "text": [
      "Saisushma patil India 25 False\n"
     ]
    }
   ],
   "source": [
    "print(f_name,l_name,country,age, is_married)"
   ]
  },
  {
   "cell_type": "code",
   "execution_count": 20,
   "id": "276edeeb-e6c6-4f64-b486-43c5c4e15111",
   "metadata": {},
   "outputs": [
    {
     "name": "stdout",
     "output_type": "stream",
     "text": [
      "first_name: Saisushma\n"
     ]
    }
   ],
   "source": [
    "print('first_name:',f_name)\n",
    "print('last_name:', l_name)\n",
    "print('Country:' ,country)\n",
    "print('Age:' ,age)\n",
    "print('Married:' , marrie\n"
   ]
  },
  {
   "cell_type": "code",
   "execution_count": null,
   "id": "4e07bb03-653c-463c-8333-1bdf6e1c8401",
   "metadata": {},
   "outputs": [],
   "source": []
  },
  {
   "cell_type": "code",
   "execution_count": null,
   "id": "5f4cf003-d2e7-49f0-873b-2eca94de0602",
   "metadata": {},
   "outputs": [],
   "source": []
  },
  {
   "cell_type": "code",
   "execution_count": null,
   "id": "9493c3c8-73df-4c1b-bec0-bee0807c6231",
   "metadata": {},
   "outputs": [],
   "source": []
  },
  {
   "cell_type": "code",
   "execution_count": null,
   "id": "e812be48-ea39-4702-868a-ddc598f2f5f2",
   "metadata": {},
   "outputs": [],
   "source": []
  },
  {
   "cell_type": "code",
   "execution_count": null,
   "id": "3924f7b0-1bfe-49d8-9448-b23ded5003df",
   "metadata": {},
   "outputs": [],
   "source": []
  }
 ],
 "metadata": {
  "kernelspec": {
   "display_name": "Python 3 (ipykernel)",
   "language": "python",
   "name": "python3"
  },
  "language_info": {
   "codemirror_mode": {
    "name": "ipython",
    "version": 3
   },
   "file_extension": ".py",
   "mimetype": "text/x-python",
   "name": "python",
   "nbconvert_exporter": "python",
   "pygments_lexer": "ipython3",
   "version": "3.12.7"
  }
 },
 "nbformat": 4,
 "nbformat_minor": 5
}
