{
 "cells": [
  {
   "cell_type": "markdown",
   "id": "bb206390-0cdb-4f90-a206-59f26c9bf00e",
   "metadata": {},
   "source": [
    "# input() with string\n",
    "\n",
    "->in real time we can use in front end apps "
   ]
  },
  {
   "cell_type": "code",
   "execution_count": 4,
   "id": "71ba7e18-e3c6-46d4-bd38-8e6cff2d9fab",
   "metadata": {},
   "outputs": [
    {
     "name": "stdin",
     "output_type": "stream",
     "text": [
      "Enter first number: 45\n",
      "Enter second number: 65\n"
     ]
    },
    {
     "name": "stdout",
     "output_type": "stream",
     "text": [
      "110\n"
     ]
    }
   ],
   "source": [
    "x1 = int(input('Enter first number:'))\n",
    "y1 = int(input('Enter second number:'))\n",
    "\n",
    "z2 = x1 + y1\n",
    "\n",
    "print(z2)"
   ]
  },
  {
   "cell_type": "code",
   "execution_count": 2,
   "id": "ebcd4939-4a77-41e8-9ab8-b56b5212864b",
   "metadata": {},
   "outputs": [
    {
     "name": "stdin",
     "output_type": "stream",
     "text": [
      "enter the string: Hello sushma\n"
     ]
    },
    {
     "name": "stdout",
     "output_type": "stream",
     "text": [
      "Hello sushma\n"
     ]
    }
   ],
   "source": [
    "st = input(\"enter the string:\")\n",
    "print(st)"
   ]
  },
  {
   "cell_type": "code",
   "execution_count": 5,
   "id": "bea9baa0-a33d-4d75-bdfa-0e1ea6bef774",
   "metadata": {},
   "outputs": [
    {
     "name": "stdout",
     "output_type": "stream",
     "text": [
      "e\n"
     ]
    }
   ],
   "source": [
    "print(st[1])"
   ]
  },
  {
   "cell_type": "code",
   "execution_count": 7,
   "id": "945df677-e18f-4d84-9027-8db5e904401d",
   "metadata": {},
   "outputs": [
    {
     "name": "stdin",
     "output_type": "stream",
     "text": [
      "enter the string: Hello sushma\n"
     ]
    },
    {
     "data": {
      "text/plain": [
       "'e'"
      ]
     },
     "execution_count": 7,
     "metadata": {},
     "output_type": "execute_result"
    }
   ],
   "source": [
    "st1 = input('enter the string:')[1]\n",
    "st1"
   ]
  },
  {
   "cell_type": "code",
   "execution_count": 8,
   "id": "6b877c6f-0c3a-446f-815d-30c5d9987857",
   "metadata": {},
   "outputs": [
    {
     "name": "stdin",
     "output_type": "stream",
     "text": [
      "enter the string: hello\n"
     ]
    },
    {
     "data": {
      "text/plain": [
       "'ell'"
      ]
     },
     "execution_count": 8,
     "metadata": {},
     "output_type": "execute_result"
    }
   ],
   "source": [
    "st1 = input('enter the string:')[1 : 4]\n",
    "st1"
   ]
  },
  {
   "cell_type": "markdown",
   "id": "27e8f97c-539e-40ed-99fd-5346f415d9fe",
   "metadata": {},
   "source": [
    "# input() with Expressions"
   ]
  },
  {
   "cell_type": "code",
   "execution_count": 10,
   "id": "bf957475-98de-405a-bbe0-2e8286c3dc36",
   "metadata": {},
   "outputs": [
    {
     "name": "stdin",
     "output_type": "stream",
     "text": [
      "enter a string: 10 + 6-7 *3\n"
     ]
    },
    {
     "name": "stdout",
     "output_type": "stream",
     "text": [
      "10 + 6-7 *3\n"
     ]
    }
   ],
   "source": [
    "exp = input(\"enter a string:\")  #it doesnot executes\n",
    "print(exp)\n"
   ]
  },
  {
   "cell_type": "code",
   "execution_count": 11,
   "id": "8eb57d8c-ec94-4df8-9862-7a5485b5c3d6",
   "metadata": {},
   "outputs": [
    {
     "name": "stdin",
     "output_type": "stream",
     "text": [
      "enter a string: 10 + 6-7 *3\n"
     ]
    },
    {
     "ename": "ValueError",
     "evalue": "invalid literal for int() with base 10: '10 + 6-7 *3'",
     "output_type": "error",
     "traceback": [
      "\u001b[1;31m---------------------------------------------------------------------------\u001b[0m",
      "\u001b[1;31mValueError\u001b[0m                                Traceback (most recent call last)",
      "Cell \u001b[1;32mIn[11], line 1\u001b[0m\n\u001b[1;32m----> 1\u001b[0m exp \u001b[38;5;241m=\u001b[39m \u001b[38;5;28mint\u001b[39m(\u001b[38;5;28minput\u001b[39m(\u001b[38;5;124m\"\u001b[39m\u001b[38;5;124menter a string:\u001b[39m\u001b[38;5;124m\"\u001b[39m))\u001b[38;5;66;03m#it doesnot executes\u001b[39;00m\n\u001b[0;32m      2\u001b[0m \u001b[38;5;28mprint\u001b[39m(exp)\n",
      "\u001b[1;31mValueError\u001b[0m: invalid literal for int() with base 10: '10 + 6-7 *3'"
     ]
    }
   ],
   "source": [
    "exp = int(input(\"enter a string:\"))#it doesnot executes it throws error\n",
    "print(exp)\n"
   ]
  },
  {
   "cell_type": "markdown",
   "id": "272a5391-d3d7-4322-997c-88563e2ee41d",
   "metadata": {},
   "source": [
    "# for resolving this eval is used for expressions"
   ]
  },
  {
   "cell_type": "code",
   "execution_count": 12,
   "id": "50a9c575-6889-489b-a117-279bbf21ca4e",
   "metadata": {},
   "outputs": [
    {
     "name": "stdin",
     "output_type": "stream",
     "text": [
      "enter a string: 10 + 6-7 *3\n"
     ]
    },
    {
     "data": {
      "text/plain": [
       "-5"
      ]
     },
     "execution_count": 12,
     "metadata": {},
     "output_type": "execute_result"
    }
   ],
   "source": [
    "expr = eval(input(\"enter a string:\"))\n",
    "expr"
   ]
  },
  {
   "cell_type": "markdown",
   "id": "fe685dca-2e93-4047-9eb6-39ef42af8c39",
   "metadata": {},
   "source": [
    "# Command Line Interpretter (CLI)\n",
    "\n",
    "-> python extensions are .py , .ipynb"
   ]
  },
  {
   "cell_type": "code",
   "execution_count": null,
   "id": "444d332f-85ea-4572-bb6b-1d8fe956017d",
   "metadata": {},
   "outputs": [],
   "source": []
  },
  {
   "cell_type": "code",
   "execution_count": null,
   "id": "6b132c2f-e9cc-489d-9983-81ec9c727adc",
   "metadata": {},
   "outputs": [],
   "source": []
  },
  {
   "cell_type": "code",
   "execution_count": null,
   "id": "62edf3fe-6e1e-42ca-beb7-36eec966cb6e",
   "metadata": {},
   "outputs": [],
   "source": []
  },
  {
   "cell_type": "code",
   "execution_count": null,
   "id": "f5f3c648-374e-4d0e-8df1-1d8047c1febd",
   "metadata": {},
   "outputs": [],
   "source": []
  },
  {
   "cell_type": "code",
   "execution_count": null,
   "id": "bf966842-b1e6-4f1d-a7ab-ac44e7713248",
   "metadata": {},
   "outputs": [],
   "source": []
  },
  {
   "cell_type": "code",
   "execution_count": null,
   "id": "96492e74-59e8-443c-91f1-574fb53a2c5b",
   "metadata": {},
   "outputs": [],
   "source": []
  },
  {
   "cell_type": "code",
   "execution_count": null,
   "id": "e63843df-1d73-4e2b-b078-e1fdedd5cef3",
   "metadata": {},
   "outputs": [],
   "source": []
  },
  {
   "cell_type": "code",
   "execution_count": null,
   "id": "7ed4d73b-a1ed-424b-88d9-5c08abdb0144",
   "metadata": {},
   "outputs": [],
   "source": []
  },
  {
   "cell_type": "code",
   "execution_count": null,
   "id": "27bbcb76-1050-4f35-bf2c-a801bb7fcf18",
   "metadata": {},
   "outputs": [],
   "source": []
  },
  {
   "cell_type": "code",
   "execution_count": null,
   "id": "3ea59c93-9143-4ffb-b74f-223ccaa62856",
   "metadata": {},
   "outputs": [],
   "source": []
  },
  {
   "cell_type": "code",
   "execution_count": null,
   "id": "4887f9b3-d205-49cd-a38e-1bb09a20881b",
   "metadata": {},
   "outputs": [],
   "source": []
  },
  {
   "cell_type": "code",
   "execution_count": null,
   "id": "af86f2d1-9cce-4938-92bb-0950a1f8e726",
   "metadata": {},
   "outputs": [],
   "source": []
  },
  {
   "cell_type": "code",
   "execution_count": null,
   "id": "9fbed9d0-c320-4009-961e-0feb197ce7fe",
   "metadata": {},
   "outputs": [],
   "source": []
  },
  {
   "cell_type": "code",
   "execution_count": null,
   "id": "3760feea-db3d-4913-8ed3-25e7f60af823",
   "metadata": {},
   "outputs": [],
   "source": []
  },
  {
   "cell_type": "code",
   "execution_count": null,
   "id": "cbeb8b38-4c49-4616-b74b-07b2bfbbed22",
   "metadata": {},
   "outputs": [],
   "source": []
  },
  {
   "cell_type": "code",
   "execution_count": null,
   "id": "ac1516e0-0557-4e41-a689-98cdb1f8a965",
   "metadata": {},
   "outputs": [],
   "source": []
  }
 ],
 "metadata": {
  "kernelspec": {
   "display_name": "Python 3 (ipykernel)",
   "language": "python",
   "name": "python3"
  },
  "language_info": {
   "codemirror_mode": {
    "name": "ipython",
    "version": 3
   },
   "file_extension": ".py",
   "mimetype": "text/x-python",
   "name": "python",
   "nbconvert_exporter": "python",
   "pygments_lexer": "ipython3",
   "version": "3.12.7"
  }
 },
 "nbformat": 4,
 "nbformat_minor": 5
}
