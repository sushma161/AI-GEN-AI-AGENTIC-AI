{
 "cells": [
  {
   "cell_type": "markdown",
   "id": "a26db49d-e06b-48f0-901c-6066caf9acb3",
   "metadata": {},
   "source": [
    "# Advanced Python \n",
    "Conditional statemnts\n",
    "loops\n",
    "function\n",
    "lambda functions\n",
    "generator\n",
    "iterator\n",
    "assyc\n",
    "file handling\n",
    "multithreading\n",
    "functional argumnets\n",
    "exception handing\n",
    "\n",
    "# OOPS python\n",
    "class\n",
    "object\n",
    "method\n",
    "polymorphism \n",
    "inheritance"
   ]
  },
  {
   "cell_type": "markdown",
   "id": "9d702d21-35b1-4e14-ba78-a2f039276d0b",
   "metadata": {},
   "source": [
    "# Conditional Statements\n",
    "\n",
    "CPU has 3 units\n",
    "ALU\n",
    "MU\n",
    "CU\n"
   ]
  },
  {
   "cell_type": "markdown",
   "id": "1ca6d319-a9fd-4f8c-a1fa-ee8069fa1269",
   "metadata": {},
   "source": [
    "# whether a number is even number or not"
   ]
  },
  {
   "cell_type": "code",
   "execution_count": 4,
   "id": "33be9258-8606-47ae-af79-4b2ffdc0c32e",
   "metadata": {},
   "outputs": [
    {
     "name": "stdout",
     "output_type": "stream",
     "text": [
      "number is odd:\n"
     ]
    }
   ],
   "source": [
    "x = 5\n",
    "if x%2 == 0:\n",
    "    print(\"number is even:\")\n",
    "else:\n",
    "    print(\"number is odd:\")"
   ]
  },
  {
   "cell_type": "markdown",
   "id": "8c8f233e-6d0b-4fb1-b846-f9b92b1ae831",
   "metadata": {},
   "source": [
    " # nested if \n",
    "\n",
    " -> if inside if\n",
    " -> more than 1 condition will use nested if"
   ]
  },
  {
   "cell_type": "code",
   "execution_count": 7,
   "id": "b1b4839d-f758-4e73-8a64-ec211162151b",
   "metadata": {},
   "outputs": [
    {
     "name": "stdout",
     "output_type": "stream",
     "text": [
      "even number\n",
      "lesser number\n"
     ]
    }
   ],
   "source": [
    "x = 4\n",
    "if x%2 == 0:\n",
    "    print(\"even number\")\n",
    "    if x > 5:\n",
    "        print(\" its greater number\")\n",
    "    else:\n",
    "        print(\"lesser number\")\n",
    "else:\n",
    "    print(\"odd number\")"
   ]
  },
  {
   "cell_type": "code",
   "execution_count": 9,
   "id": "7f66ba75-dd36-4f63-bb1f-c9678ae86d86",
   "metadata": {},
   "outputs": [
    {
     "name": "stdout",
     "output_type": "stream",
     "text": [
      "number not found\n"
     ]
    }
   ],
   "source": [
    "x = 6\n",
    "\n",
    "if x==1:\n",
    "    print('one')\n",
    "elif x ==2:\n",
    "    print('two')\n",
    "elif x ==3:\n",
    "    print('three')\n",
    "else:\n",
    "    print(\"number not found\")"
   ]
  },
  {
   "cell_type": "code",
   "execution_count": null,
   "id": "6290fe79-e068-4306-b40b-018e38ec4a8c",
   "metadata": {},
   "outputs": [],
   "source": []
  },
  {
   "cell_type": "code",
   "execution_count": null,
   "id": "b573685d-aa3a-4723-845b-0e53de79fe4d",
   "metadata": {},
   "outputs": [],
   "source": []
  },
  {
   "cell_type": "code",
   "execution_count": null,
   "id": "4d31f7d1-06c5-4462-8236-0cede0dafe0a",
   "metadata": {},
   "outputs": [],
   "source": []
  },
  {
   "cell_type": "code",
   "execution_count": null,
   "id": "37674f1e-ca63-4e28-920e-e9bf0a3c8aea",
   "metadata": {},
   "outputs": [],
   "source": []
  },
  {
   "cell_type": "code",
   "execution_count": null,
   "id": "00cec66e-30f4-41a7-ae85-236b21497bf7",
   "metadata": {},
   "outputs": [],
   "source": []
  },
  {
   "cell_type": "code",
   "execution_count": null,
   "id": "2e97d9a2-318a-478b-b1e6-f984dbaf0c11",
   "metadata": {},
   "outputs": [],
   "source": []
  },
  {
   "cell_type": "code",
   "execution_count": null,
   "id": "69d34a5e-1630-44d9-b85d-91956dbb2a21",
   "metadata": {},
   "outputs": [],
   "source": []
  },
  {
   "cell_type": "code",
   "execution_count": null,
   "id": "abadc735-06d5-4259-9726-9e9e499d549b",
   "metadata": {},
   "outputs": [],
   "source": []
  },
  {
   "cell_type": "code",
   "execution_count": null,
   "id": "eb787bf2-f7f1-4488-93a6-8f581f013aaa",
   "metadata": {},
   "outputs": [],
   "source": []
  },
  {
   "cell_type": "code",
   "execution_count": null,
   "id": "42eceeb5-b693-44be-a242-38d503ef2e35",
   "metadata": {},
   "outputs": [],
   "source": []
  },
  {
   "cell_type": "code",
   "execution_count": null,
   "id": "c8a29817-559e-4334-9639-c5ccaf2d5a48",
   "metadata": {},
   "outputs": [],
   "source": []
  },
  {
   "cell_type": "code",
   "execution_count": null,
   "id": "3c798b21-d8ae-44c8-a26a-8e2774ec71d0",
   "metadata": {},
   "outputs": [],
   "source": []
  },
  {
   "cell_type": "code",
   "execution_count": null,
   "id": "e7685186-b6f8-4abf-b842-221e3dc40730",
   "metadata": {},
   "outputs": [],
   "source": []
  },
  {
   "cell_type": "code",
   "execution_count": null,
   "id": "7be78c24-a806-428c-b3f5-41f15cdc4fb2",
   "metadata": {},
   "outputs": [],
   "source": []
  },
  {
   "cell_type": "code",
   "execution_count": null,
   "id": "cbec8ffd-9edb-477d-842e-61ecfc97db27",
   "metadata": {},
   "outputs": [],
   "source": []
  },
  {
   "cell_type": "code",
   "execution_count": null,
   "id": "5c4ebab4-26e9-4b86-b98c-c5b3e31599d4",
   "metadata": {},
   "outputs": [],
   "source": []
  }
 ],
 "metadata": {
  "kernelspec": {
   "display_name": "Python 3 (ipykernel)",
   "language": "python",
   "name": "python3"
  },
  "language_info": {
   "codemirror_mode": {
    "name": "ipython",
    "version": 3
   },
   "file_extension": ".py",
   "mimetype": "text/x-python",
   "name": "python",
   "nbconvert_exporter": "python",
   "pygments_lexer": "ipython3",
   "version": "3.12.7"
  }
 },
 "nbformat": 4,
 "nbformat_minor": 5
}
