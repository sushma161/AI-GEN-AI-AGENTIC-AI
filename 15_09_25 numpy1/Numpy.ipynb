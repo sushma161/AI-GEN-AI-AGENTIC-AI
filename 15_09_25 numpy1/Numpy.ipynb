{
 "cells": [
  {
   "cell_type": "markdown",
   "id": "94232c65-3285-4305-ba4a-4c4fea5e2495",
   "metadata": {},
   "source": [
    "# Numpy - numerical python\n",
    "\n",
    "-> in datascience arrays are handled by library called numpy\n",
    "-> its a library which handles multi dimensional array 1d,2d,3d ... nd array(more than 3 rows)\n",
    "-> numpy used to build all the models , machine learning , deep learning , gen AI , Agentic AI\n",
    "\n",
    "# uses of numpy\n",
    "->arithemetic operations\n",
    "->statistic operations\n",
    "-> bitwise operation\n",
    "-> copy an dbit array\n",
    "->stacking\n",
    "-> matrix operation\n",
    "->linear algebra\n",
    "->broadcasting\n",
    "->math operation\n",
    "->searching , sorting ,counting\n",
    "\n",
    "# important point\n",
    "->numpy built on data structures, math ,stats,array\n",
    "->it has 217 built in function\n",
    "->used for structured and unstructured data\n",
    "\n"
   ]
  },
  {
   "cell_type": "code",
   "execution_count": 1,
   "id": "b8d7c1af-f27c-4e3e-927a-b55c4795261f",
   "metadata": {},
   "outputs": [],
   "source": [
    "import numpy as np"
   ]
  },
  {
   "cell_type": "code",
   "execution_count": 2,
   "id": "1790da29-3c2d-4b13-a3c6-b402ec9da719",
   "metadata": {},
   "outputs": [
    {
     "data": {
      "text/plain": [
       "'1.26.4'"
      ]
     },
     "execution_count": 2,
     "metadata": {},
     "output_type": "execute_result"
    }
   ],
   "source": [
    "np.__version__"
   ]
  },
  {
   "cell_type": "code",
   "execution_count": 3,
   "id": "bcf32689-492a-486b-b62c-b998f8c4ffd9",
   "metadata": {},
   "outputs": [
    {
     "data": {
      "text/plain": [
       "[0, 1, 2, 3, 4, 5]"
      ]
     },
     "execution_count": 3,
     "metadata": {},
     "output_type": "execute_result"
    }
   ],
   "source": [
    "my_list = [0,1,2,3,4,5]\n",
    "my_list"
   ]
  },
  {
   "cell_type": "code",
   "execution_count": 4,
   "id": "7cdb9be8-fc11-43d6-85cc-0d95704f2b9c",
   "metadata": {},
   "outputs": [
    {
     "data": {
      "text/plain": [
       "array([0, 1, 2, 3, 4, 5])"
      ]
     },
     "execution_count": 4,
     "metadata": {},
     "output_type": "execute_result"
    }
   ],
   "source": [
    "#convert list to array\n",
    "arr = np.array(my_list)\n",
    "arr"
   ]
  },
  {
   "cell_type": "code",
   "execution_count": 5,
   "id": "d39a2577-d639-42fb-bf1a-99b4ede50866",
   "metadata": {},
   "outputs": [
    {
     "name": "stdout",
     "output_type": "stream",
     "text": [
      "<class 'list'>\n",
      "<class 'numpy.ndarray'>\n"
     ]
    }
   ],
   "source": [
    "print(type(my_list))\n",
    "print(type(arr))"
   ]
  },
  {
   "cell_type": "code",
   "execution_count": null,
   "id": "7b3c1f06-dd61-4cff-a7fb-747d27811fb5",
   "metadata": {},
   "outputs": [],
   "source": [
    "#217 functionalities inside numpy \n"
   ]
  },
  {
   "cell_type": "code",
   "execution_count": 7,
   "id": "a03f3b85-a292-4c37-aa0c-37f363b29d7d",
   "metadata": {},
   "outputs": [
    {
     "data": {
      "text/plain": [
       "array([0, 1, 2, 3, 4, 5, 6, 7, 8, 9])"
      ]
     },
     "execution_count": 7,
     "metadata": {},
     "output_type": "execute_result"
    }
   ],
   "source": [
    "np.arange(10) #inerval between 0 -10,user passes arguments "
   ]
  },
  {
   "cell_type": "code",
   "execution_count": 8,
   "id": "b4d48f16-e66b-4238-987b-ba735757f59d",
   "metadata": {},
   "outputs": [
    {
     "data": {
      "text/plain": [
       "array([0., 1., 2., 3., 4.])"
      ]
     },
     "execution_count": 8,
     "metadata": {},
     "output_type": "execute_result"
    }
   ],
   "source": [
    "np.arange(5.0)"
   ]
  },
  {
   "cell_type": "code",
   "execution_count": 9,
   "id": "94017ec2-f6c8-4f92-a956-1fb46cb4fa99",
   "metadata": {},
   "outputs": [
    {
     "data": {
      "text/plain": [
       "array([0, 1, 2, 3, 4])"
      ]
     },
     "execution_count": 9,
     "metadata": {},
     "output_type": "execute_result"
    }
   ],
   "source": [
    "np.arange(0,5)"
   ]
  },
  {
   "cell_type": "code",
   "execution_count": 10,
   "id": "b23f34b2-00ed-4b9b-96af-ec26e9acc3b1",
   "metadata": {},
   "outputs": [
    {
     "data": {
      "text/plain": [
       "array([10, 15, 20, 25, 30, 35, 40, 45, 50, 55, 60, 65, 70, 75, 80, 85, 90,\n",
       "       95])"
      ]
     },
     "execution_count": 10,
     "metadata": {},
     "output_type": "execute_result"
    }
   ],
   "source": [
    "np.arange(10,100,5)"
   ]
  },
  {
   "cell_type": "code",
   "execution_count": 11,
   "id": "201b4be0-040d-4b96-bdd9-b44308b90c22",
   "metadata": {},
   "outputs": [
    {
     "data": {
      "text/plain": [
       "array([], dtype=int32)"
      ]
     },
     "execution_count": 11,
     "metadata": {},
     "output_type": "execute_result"
    }
   ],
   "source": [
    "np.arange(10,5) #1st arg should be less than 2nd"
   ]
  },
  {
   "cell_type": "code",
   "execution_count": 12,
   "id": "6d6ea414-cd10-4ffa-b617-d447365e4017",
   "metadata": {},
   "outputs": [
    {
     "data": {
      "text/plain": [
       "array([-10,  -9,  -8,  -7,  -6,  -5,  -4,  -3,  -2,  -1,   0,   1,   2,\n",
       "         3,   4])"
      ]
     },
     "execution_count": 12,
     "metadata": {},
     "output_type": "execute_result"
    }
   ],
   "source": [
    "np.arange(-10,5)"
   ]
  },
  {
   "cell_type": "code",
   "execution_count": 13,
   "id": "c4564233-6158-4510-9ed8-dbc3e653a220",
   "metadata": {},
   "outputs": [
    {
     "ename": "TypeError",
     "evalue": "Cannot interpret '3' as a data type",
     "output_type": "error",
     "traceback": [
      "\u001b[1;31m---------------------------------------------------------------------------\u001b[0m",
      "\u001b[1;31mTypeError\u001b[0m                                 Traceback (most recent call last)",
      "Cell \u001b[1;32mIn[13], line 1\u001b[0m\n\u001b[1;32m----> 1\u001b[0m np\u001b[38;5;241m.\u001b[39marange(\u001b[38;5;241m1\u001b[39m,\u001b[38;5;241m100\u001b[39m,\u001b[38;5;241m5\u001b[39m,\u001b[38;5;241m3\u001b[39m)\n",
      "\u001b[1;31mTypeError\u001b[0m: Cannot interpret '3' as a data type"
     ]
    }
   ],
   "source": [
    "np.arange(1,100,5,3)  #arange takes only 3 arguments"
   ]
  },
  {
   "cell_type": "markdown",
   "id": "fae2b169-8f75-48c7-898c-e0bae2c01a4c",
   "metadata": {},
   "source": [
    "# Zeros()\n",
    "-> defaultly system captures float "
   ]
  },
  {
   "cell_type": "code",
   "execution_count": 14,
   "id": "20b533c7-fd9d-483c-a83a-67cb7423c84a",
   "metadata": {},
   "outputs": [
    {
     "data": {
      "text/plain": [
       "array([0., 0., 0.])"
      ]
     },
     "execution_count": 14,
     "metadata": {},
     "output_type": "execute_result"
    }
   ],
   "source": [
    "np.zeros(3)  #parameter tuning"
   ]
  },
  {
   "cell_type": "code",
   "execution_count": 15,
   "id": "5809630d-a84f-4b17-a232-6922f86cac7e",
   "metadata": {},
   "outputs": [
    {
     "data": {
      "text/plain": [
       "array([0, 0, 0])"
      ]
     },
     "execution_count": 15,
     "metadata": {},
     "output_type": "execute_result"
    }
   ],
   "source": [
    "np.zeros(3, dtype =int) #hyperparameter tuning"
   ]
  },
  {
   "cell_type": "code",
   "execution_count": 17,
   "id": "1859ff1b-2186-4441-b9ad-794bf0b50c2a",
   "metadata": {},
   "outputs": [
    {
     "data": {
      "text/plain": [
       "array([[0., 0.],\n",
       "       [0., 0.]])"
      ]
     },
     "execution_count": 17,
     "metadata": {},
     "output_type": "execute_result"
    }
   ],
   "source": [
    "np.zeros((2,2))  #2d array"
   ]
  },
  {
   "cell_type": "code",
   "execution_count": 19,
   "id": "ff104755-e942-4061-aab4-92447b6dea57",
   "metadata": {},
   "outputs": [
    {
     "data": {
      "text/plain": [
       "array([[0, 0],\n",
       "       [0, 0]])"
      ]
     },
     "execution_count": 19,
     "metadata": {},
     "output_type": "execute_result"
    }
   ],
   "source": [
    "np.zeros((2,2) , dtype = int)"
   ]
  },
  {
   "cell_type": "code",
   "execution_count": 20,
   "id": "dd350ef8-e1e4-4f08-a3a1-c0df85e37a35",
   "metadata": {},
   "outputs": [
    {
     "data": {
      "text/plain": [
       "array([[0, 0, 0, 0, 0, 0, 0, 0, 0, 0],\n",
       "       [0, 0, 0, 0, 0, 0, 0, 0, 0, 0],\n",
       "       [0, 0, 0, 0, 0, 0, 0, 0, 0, 0],\n",
       "       [0, 0, 0, 0, 0, 0, 0, 0, 0, 0],\n",
       "       [0, 0, 0, 0, 0, 0, 0, 0, 0, 0]])"
      ]
     },
     "execution_count": 20,
     "metadata": {},
     "output_type": "execute_result"
    }
   ],
   "source": [
    "np.zeros((5,10) , dtype = int)"
   ]
  },
  {
   "cell_type": "code",
   "execution_count": 21,
   "id": "eb8f1810-6f28-4778-8100-67363f6b54cd",
   "metadata": {},
   "outputs": [
    {
     "data": {
      "text/plain": [
       "array([[1., 1.],\n",
       "       [1., 1.]])"
      ]
     },
     "execution_count": 21,
     "metadata": {},
     "output_type": "execute_result"
    }
   ],
   "source": [
    "np.ones((2,2))"
   ]
  },
  {
   "cell_type": "code",
   "execution_count": 22,
   "id": "d6e0bd0b-4ed4-49bf-8a25-8a47f0731582",
   "metadata": {},
   "outputs": [
    {
     "data": {
      "text/plain": [
       "array([[1, 1, 1, 1, 1, 1],\n",
       "       [1, 1, 1, 1, 1, 1]])"
      ]
     },
     "execution_count": 22,
     "metadata": {},
     "output_type": "execute_result"
    }
   ],
   "source": [
    "np.ones((2,6 ),dtype = int)"
   ]
  },
  {
   "cell_type": "markdown",
   "id": "8e9add74-1fda-43de-be1b-2a567bb96163",
   "metadata": {},
   "source": [
    "# Rand()\n",
    "\n",
    "->for OTP generations\n",
    "-> random number it gives everytime"
   ]
  },
  {
   "cell_type": "code",
   "execution_count": 23,
   "id": "1bfe6a65-565f-4916-8c58-749ba39aef80",
   "metadata": {},
   "outputs": [
    {
     "ename": "NameError",
     "evalue": "name 'rand' is not defined",
     "output_type": "error",
     "traceback": [
      "\u001b[1;31m---------------------------------------------------------------------------\u001b[0m",
      "\u001b[1;31mNameError\u001b[0m                                 Traceback (most recent call last)",
      "Cell \u001b[1;32mIn[23], line 1\u001b[0m\n\u001b[1;32m----> 1\u001b[0m rand(\u001b[38;5;241m2\u001b[39m,\u001b[38;5;241m3\u001b[39m)\n",
      "\u001b[1;31mNameError\u001b[0m: name 'rand' is not defined"
     ]
    }
   ],
   "source": [
    "rand(2,3)"
   ]
  },
  {
   "cell_type": "code",
   "execution_count": 24,
   "id": "fa606a82-bd7f-4b40-b5af-2699f15db73c",
   "metadata": {},
   "outputs": [
    {
     "ename": "NameError",
     "evalue": "name 'random' is not defined",
     "output_type": "error",
     "traceback": [
      "\u001b[1;31m---------------------------------------------------------------------------\u001b[0m",
      "\u001b[1;31mNameError\u001b[0m                                 Traceback (most recent call last)",
      "Cell \u001b[1;32mIn[24], line 1\u001b[0m\n\u001b[1;32m----> 1\u001b[0m random\u001b[38;5;241m.\u001b[39mrand(\u001b[38;5;241m2\u001b[39m,\u001b[38;5;241m3\u001b[39m)\n",
      "\u001b[1;31mNameError\u001b[0m: name 'random' is not defined"
     ]
    }
   ],
   "source": [
    "random.rand(2,3)"
   ]
  },
  {
   "cell_type": "code",
   "execution_count": 26,
   "id": "84545f89-9078-4432-b3e3-cc6b2dafb191",
   "metadata": {},
   "outputs": [
    {
     "data": {
      "text/plain": [
       "array([[0.49041542, 0.59642516, 0.66638741],\n",
       "       [0.00306027, 0.73580028, 0.28520211]])"
      ]
     },
     "execution_count": 26,
     "metadata": {},
     "output_type": "execute_result"
    }
   ],
   "source": [
    "np.random.rand(2,3)"
   ]
  },
  {
   "cell_type": "code",
   "execution_count": 33,
   "id": "a82eee24-1b0c-485d-a386-1d0097a1b1dc",
   "metadata": {},
   "outputs": [
    {
     "data": {
      "text/plain": [
       "6"
      ]
     },
     "execution_count": 33,
     "metadata": {},
     "output_type": "execute_result"
    }
   ],
   "source": [
    "np.random.randint(2,9)"
   ]
  },
  {
   "cell_type": "code",
   "execution_count": 36,
   "id": "b4199044-9fcc-4d39-a651-20a253f06229",
   "metadata": {},
   "outputs": [
    {
     "data": {
      "text/plain": [
       "array([13,  1, 11,  6])"
      ]
     },
     "execution_count": 36,
     "metadata": {},
     "output_type": "execute_result"
    }
   ],
   "source": [
    "np.random.randint(1,20,4)"
   ]
  },
  {
   "cell_type": "code",
   "execution_count": 39,
   "id": "3b7cda70-3165-4aff-abad-9dfa84f1e0bb",
   "metadata": {},
   "outputs": [
    {
     "data": {
      "text/plain": [
       "array([[12, 16, 23, 31, 22, 39, 30, 32, 11, 18],\n",
       "       [16, 23, 21, 14, 23, 21, 27, 19, 15, 33],\n",
       "       [24, 11, 25, 23, 10, 15, 23, 12, 31, 33],\n",
       "       [24, 37, 17, 31, 21, 39, 13, 38, 15, 20],\n",
       "       [16, 37, 14, 10, 11, 37, 36, 22, 24, 28],\n",
       "       [32, 17, 28, 19, 38, 21, 27, 39, 34, 22],\n",
       "       [30, 29, 19, 27, 38, 25, 10, 25, 22, 19],\n",
       "       [34, 28, 24, 31, 33, 18, 35, 13, 14, 23],\n",
       "       [29, 19, 13, 27, 23, 23, 27, 18, 14, 14],\n",
       "       [13, 10, 17, 14, 34, 11, 32, 19, 11, 17]])"
      ]
     },
     "execution_count": 39,
     "metadata": {},
     "output_type": "execute_result"
    }
   ],
   "source": [
    "np.random.randint(10,40,(10,10)) #10rows ,10 colums it gies 10 to 40 numbers"
   ]
  },
  {
   "cell_type": "code",
   "execution_count": 40,
   "id": "70512863-a325-414b-b1e5-89254006496a",
   "metadata": {},
   "outputs": [
    {
     "name": "stdout",
     "output_type": "stream",
     "text": [
      "[[29 38 30 23 20 34 28 26 21 14]\n",
      " [27 17 19 37 28 36 32 24 23 37]\n",
      " [13 19 11 31 15 38 39 25 38 32]\n",
      " [10 19 11 16 33 29 21 11 12 34]\n",
      " [19 19 19 19 36 34 25 26 36 25]\n",
      " [27 14 19 35 37 13 34 25 28 36]\n",
      " [28 30 27 36 28 26 35 31 12 32]\n",
      " [19 21 22 31 29 27 21 20 25 21]\n",
      " [38 15 38 31 25 13 23 28 36 23]\n",
      " [25 34 30 38 30 15 10 39 33 25]]\n"
     ]
    }
   ],
   "source": [
    "a = np.random.randint(10,40,(10,10))\n",
    "print(a)"
   ]
  },
  {
   "cell_type": "markdown",
   "id": "b76e8985-1618-471f-8f4c-dfbf0ac34af6",
   "metadata": {},
   "source": [
    "# reshaping \n",
    "\n",
    "->after arrange to shape that array in different manner it gives output\n"
   ]
  },
  {
   "cell_type": "code",
   "execution_count": 41,
   "id": "12973df1-4d2e-4e24-b7a6-1f374b9d530f",
   "metadata": {},
   "outputs": [
    {
     "data": {
      "text/plain": [
       "array([[ 1,  2,  3,  4],\n",
       "       [ 5,  6,  7,  8],\n",
       "       [ 9, 10, 11, 12]])"
      ]
     },
     "execution_count": 41,
     "metadata": {},
     "output_type": "execute_result"
    }
   ],
   "source": [
    "np.arange(1,13).reshape(3,4)  # between the mentioned intervals in arrange , shape it as 3*4 matrix , it should be within the range"
   ]
  },
  {
   "cell_type": "code",
   "execution_count": 42,
   "id": "22f6375b-53fa-4e0f-97a6-f7cca9b1e191",
   "metadata": {},
   "outputs": [
    {
     "ename": "ValueError",
     "evalue": "cannot reshape array of size 12 into shape (4,4)",
     "output_type": "error",
     "traceback": [
      "\u001b[1;31m---------------------------------------------------------------------------\u001b[0m",
      "\u001b[1;31mValueError\u001b[0m                                Traceback (most recent call last)",
      "Cell \u001b[1;32mIn[42], line 1\u001b[0m\n\u001b[1;32m----> 1\u001b[0m np\u001b[38;5;241m.\u001b[39marange(\u001b[38;5;241m1\u001b[39m,\u001b[38;5;241m13\u001b[39m)\u001b[38;5;241m.\u001b[39mreshape(\u001b[38;5;241m4\u001b[39m,\u001b[38;5;241m4\u001b[39m)\n",
      "\u001b[1;31mValueError\u001b[0m: cannot reshape array of size 12 into shape (4,4)"
     ]
    }
   ],
   "source": [
    "np.arange(1,13).reshape(4,4)  # 4 * 4 -16 so it doesn't give output exceeds the value "
   ]
  },
  {
   "cell_type": "markdown",
   "id": "fc9a5ae9-13b3-4b79-9394-a9589072119a",
   "metadata": {},
   "source": [
    "# Slicing and indexing  in matrix"
   ]
  },
  {
   "cell_type": "code",
   "execution_count": null,
   "id": "b94f53ee-d2cb-4642-a94f-d90425f669f0",
   "metadata": {},
   "outputs": [],
   "source": []
  },
  {
   "cell_type": "code",
   "execution_count": null,
   "id": "b9568002-6bed-41b2-b540-13d04b74da78",
   "metadata": {},
   "outputs": [],
   "source": []
  },
  {
   "cell_type": "code",
   "execution_count": null,
   "id": "80a2e1bd-53cc-4a5d-b996-0f539addd8d5",
   "metadata": {},
   "outputs": [],
   "source": []
  },
  {
   "cell_type": "code",
   "execution_count": null,
   "id": "bb2f82d0-48de-409e-bb19-d8f8559df012",
   "metadata": {},
   "outputs": [],
   "source": []
  },
  {
   "cell_type": "code",
   "execution_count": null,
   "id": "3a401fb4-b8a7-4dba-8639-2f34a67966d8",
   "metadata": {},
   "outputs": [],
   "source": []
  },
  {
   "cell_type": "code",
   "execution_count": null,
   "id": "f9cfb38e-f6be-4422-a327-d668fdd10bf0",
   "metadata": {},
   "outputs": [],
   "source": []
  },
  {
   "cell_type": "code",
   "execution_count": null,
   "id": "f0e31b1f-c739-404f-9cd0-0c8e327cf512",
   "metadata": {},
   "outputs": [],
   "source": []
  },
  {
   "cell_type": "code",
   "execution_count": null,
   "id": "f667a7dd-cf60-45d6-af71-19abfe1f218b",
   "metadata": {},
   "outputs": [],
   "source": []
  },
  {
   "cell_type": "code",
   "execution_count": null,
   "id": "652ff334-69be-4d98-8a82-4f50cf105113",
   "metadata": {},
   "outputs": [],
   "source": []
  },
  {
   "cell_type": "code",
   "execution_count": null,
   "id": "cd1af86a-82e8-4938-9918-9794f9d7ec06",
   "metadata": {},
   "outputs": [],
   "source": []
  },
  {
   "cell_type": "code",
   "execution_count": null,
   "id": "ba8606df-ffb5-4c27-94c0-7f47b2cd355e",
   "metadata": {},
   "outputs": [],
   "source": []
  },
  {
   "cell_type": "code",
   "execution_count": null,
   "id": "aef288df-1a3a-4600-821a-c8bc5815d9ff",
   "metadata": {},
   "outputs": [],
   "source": []
  }
 ],
 "metadata": {
  "kernelspec": {
   "display_name": "Python 3 (ipykernel)",
   "language": "python",
   "name": "python3"
  },
  "language_info": {
   "codemirror_mode": {
    "name": "ipython",
    "version": 3
   },
   "file_extension": ".py",
   "mimetype": "text/x-python",
   "name": "python",
   "nbconvert_exporter": "python",
   "pygments_lexer": "ipython3",
   "version": "3.12.7"
  }
 },
 "nbformat": 4,
 "nbformat_minor": 5
}
