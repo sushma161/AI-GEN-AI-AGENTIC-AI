{
 "cells": [
  {
   "cell_type": "markdown",
   "id": "ed1a18bf-e520-4615-aca8-457f9354a04b",
   "metadata": {},
   "source": [
    "Basic python print function and checking datatypes"
   ]
  },
  {
   "cell_type": "code",
   "execution_count": 1,
   "id": "6713efec-2a6f-466a-837f-d65fcfc8fcd5",
   "metadata": {},
   "outputs": [
    {
     "name": "stdout",
     "output_type": "stream",
     "text": [
      "6\n"
     ]
    }
   ],
   "source": [
    "print(2+4)"
   ]
  },
  {
   "cell_type": "code",
   "execution_count": 2,
   "id": "f1d6f3ad-4fb6-4fa9-a9f3-07523dad5255",
   "metadata": {},
   "outputs": [
    {
     "name": "stdout",
     "output_type": "stream",
     "text": [
      "-2\n"
     ]
    }
   ],
   "source": [
    "print(4-6)"
   ]
  },
  {
   "cell_type": "code",
   "execution_count": 3,
   "id": "0f0146ec-cb46-4d9e-91e3-d510167c92c8",
   "metadata": {},
   "outputs": [
    {
     "name": "stdout",
     "output_type": "stream",
     "text": [
      "20\n"
     ]
    }
   ],
   "source": [
    "print(4*5)"
   ]
  },
  {
   "cell_type": "code",
   "execution_count": 4,
   "id": "671a3f03-d357-4837-a17f-ded9d4c4628d",
   "metadata": {},
   "outputs": [
    {
     "name": "stdout",
     "output_type": "stream",
     "text": [
      "1.5\n"
     ]
    }
   ],
   "source": [
    "print(3 / 2)"
   ]
  },
  {
   "cell_type": "code",
   "execution_count": 5,
   "id": "4ba4444a-1725-4557-9627-1ad3b66892f6",
   "metadata": {},
   "outputs": [
    {
     "name": "stdout",
     "output_type": "stream",
     "text": [
      "64\n"
     ]
    }
   ],
   "source": [
    "print(4 ** 3) #(power of 3 , exponential)"
   ]
  },
  {
   "cell_type": "code",
   "execution_count": 7,
   "id": "52d1357b-6471-4936-8f53-7b0d8a8d73ad",
   "metadata": {},
   "outputs": [
    {
     "name": "stdout",
     "output_type": "stream",
     "text": [
      "3\n"
     ]
    }
   ],
   "source": [
    "print( 16 // 5) #(float division operator)"
   ]
  },
  {
   "cell_type": "code",
   "execution_count": 8,
   "id": "beef1e7a-b8e7-44c1-bf2a-f3c044fc7ff5",
   "metadata": {},
   "outputs": [
    {
     "name": "stdout",
     "output_type": "stream",
     "text": [
      "<class 'int'>\n"
     ]
    }
   ],
   "source": [
    "print(type(4))"
   ]
  },
  {
   "cell_type": "code",
   "execution_count": 9,
   "id": "941182b1-09ad-43df-a5f3-f59b0de420d6",
   "metadata": {},
   "outputs": [
    {
     "name": "stdout",
     "output_type": "stream",
     "text": [
      "<class 'float'>\n"
     ]
    }
   ],
   "source": [
    "print(type(3.14))"
   ]
  },
  {
   "cell_type": "code",
   "execution_count": 10,
   "id": "7fcab53b-aff4-46df-940c-63a7f35edb74",
   "metadata": {},
   "outputs": [
    {
     "name": "stdout",
     "output_type": "stream",
     "text": [
      "<class 'complex'>\n"
     ]
    }
   ],
   "source": [
    "print(type(1+2j))"
   ]
  },
  {
   "cell_type": "code",
   "execution_count": 11,
   "id": "2e6c79e0-4faf-4fb4-89f8-5521c75aa282",
   "metadata": {},
   "outputs": [
    {
     "name": "stdout",
     "output_type": "stream",
     "text": [
      "<class 'str'>\n"
     ]
    }
   ],
   "source": [
    "print(type('Sushmapatil'))"
   ]
  },
  {
   "cell_type": "code",
   "execution_count": 12,
   "id": "5613b2e5-13e3-4d25-b2dd-6fc7a5ae2e77",
   "metadata": {},
   "outputs": [
    {
     "name": "stdout",
     "output_type": "stream",
     "text": [
      "<class 'list'>\n"
     ]
    }
   ],
   "source": [
    "print(type([1,4,7]))"
   ]
  },
  {
   "cell_type": "code",
   "execution_count": 13,
   "id": "db4dab47-abd9-40e8-9839-bb0917de2bd0",
   "metadata": {},
   "outputs": [
    {
     "name": "stdout",
     "output_type": "stream",
     "text": [
      "<class 'dict'>\n"
     ]
    }
   ],
   "source": [
    "print(type({'name' : 'patil'}))"
   ]
  },
  {
   "cell_type": "code",
   "execution_count": 14,
   "id": "577a52bf-57d0-4b97-ae6d-dd12eac55e41",
   "metadata": {},
   "outputs": [
    {
     "name": "stdout",
     "output_type": "stream",
     "text": [
      "<class 'set'>\n"
     ]
    }
   ],
   "source": [
    "print(type({7.8,3.67,2.31}))"
   ]
  },
  {
   "cell_type": "code",
   "execution_count": 16,
   "id": "e12e2373-99ed-4af3-b58c-01786939997c",
   "metadata": {},
   "outputs": [
    {
     "name": "stdout",
     "output_type": "stream",
     "text": [
      "<class 'tuple'>\n"
     ]
    }
   ],
   "source": [
    "print(type((7.8,3.67,2.31)))"
   ]
  },
  {
   "cell_type": "code",
   "execution_count": 17,
   "id": "9b1ade58-316d-4569-8a01-a8bf816912a5",
   "metadata": {},
   "outputs": [
    {
     "name": "stdout",
     "output_type": "stream",
     "text": [
      "<class 'bool'>\n"
     ]
    }
   ],
   "source": [
    "print(type(2==2))"
   ]
  },
  {
   "cell_type": "code",
   "execution_count": null,
   "id": "871c89af-a626-4698-b80f-5bbc2b8b04f9",
   "metadata": {},
   "outputs": [],
   "source": [
    "print(type(4>"
   ]
  }
 ],
 "metadata": {
  "kernelspec": {
   "display_name": "Python 3 (ipykernel)",
   "language": "python",
   "name": "python3"
  },
  "language_info": {
   "codemirror_mode": {
    "name": "ipython",
    "version": 3
   },
   "file_extension": ".py",
   "mimetype": "text/x-python",
   "name": "python",
   "nbconvert_exporter": "python",
   "pygments_lexer": "ipython3",
   "version": "3.12.7"
  }
 },
 "nbformat": 4,
 "nbformat_minor": 5
}
