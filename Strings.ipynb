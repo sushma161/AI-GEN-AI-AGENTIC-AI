{
 "cells": [
  {
   "cell_type": "markdown",
   "id": "1ca45399-220d-408f-b77f-01eb3bddb8bc",
   "metadata": {},
   "source": [
    "# Comments \n",
    "# single line comment"
   ]
  },
  {
   "cell_type": "code",
   "execution_count": 1,
   "id": "476b0d07-1e5e-4cdb-9500-a74679c0780d",
   "metadata": {},
   "outputs": [
    {
     "name": "stdout",
     "output_type": "stream",
     "text": [
      "S\n"
     ]
    }
   ],
   "source": [
    "letter ='S'\n",
    "print(letter)"
   ]
  },
  {
   "cell_type": "code",
   "execution_count": 2,
   "id": "b19ecd92-7e9b-4a85-b627-40026bde7a2a",
   "metadata": {},
   "outputs": [
    {
     "name": "stdout",
     "output_type": "stream",
     "text": [
      "1\n"
     ]
    }
   ],
   "source": [
    "print(len(letter))"
   ]
  },
  {
   "cell_type": "code",
   "execution_count": 3,
   "id": "d9ceefb3-ec25-4283-838d-8df3e37f7ca7",
   "metadata": {},
   "outputs": [
    {
     "name": "stdout",
     "output_type": "stream",
     "text": [
      "Hello Sushma!\n",
      "13\n"
     ]
    }
   ],
   "source": [
    "greeting = 'Hello Sushma!'\n",
    "print(greeting)\n",
    "print(len(greeting))"
   ]
  },
  {
   "cell_type": "code",
   "execution_count": 5,
   "id": "2bc7763a-d60d-4135-9dac-79143590ab1d",
   "metadata": {},
   "outputs": [
    {
     "name": "stdout",
     "output_type": "stream",
     "text": [
      "I am enjoying 30 days of python challenge\n"
     ]
    }
   ],
   "source": [
    "Sentence =\"I am enjoying 30 days of python challenge\"\n",
    "print(Sentence)"
   ]
  },
  {
   "cell_type": "markdown",
   "id": "8d422ad7-783b-4eb6-ab99-2111ee6b877c",
   "metadata": {},
   "source": [
    "# Multiline string "
   ]
  },
  {
   "cell_type": "code",
   "execution_count": 9,
   "id": "f31a5e35-280c-46c1-b559-bf3630fbe29f",
   "metadata": {},
   "outputs": [
    {
     "name": "stdout",
     "output_type": "stream",
     "text": [
      "I am an Engineer and enjoy innovating new things \n",
      "that is why i want to learn 30 days of \n",
      "python challenge\n"
     ]
    }
   ],
   "source": [
    "multiline_string ='''I am an Engineer and enjoy innovating new things \n",
    "that is why i want to learn 30 days of \n",
    "python challenge'''\n",
    "\n",
    "print(multiline_string)"
   ]
  },
  {
   "cell_type": "code",
   "execution_count": 10,
   "id": "107d8262-62bb-4f90-9b88-0262c411d7d2",
   "metadata": {},
   "outputs": [
    {
     "data": {
      "text/plain": [
       "106"
      ]
     },
     "execution_count": 10,
     "metadata": {},
     "output_type": "execute_result"
    }
   ],
   "source": [
    "len(multiline_string)"
   ]
  },
  {
   "cell_type": "markdown",
   "id": "1a3511af-60d3-42ea-a3d6-edb984d1af43",
   "metadata": {},
   "source": [
    "# Another way of doing same thing  using \"\"\""
   ]
  },
  {
   "cell_type": "code",
   "execution_count": 11,
   "id": "c3885194-0790-4fe6-bb02-a920eec3a963",
   "metadata": {},
   "outputs": [
    {
     "name": "stdout",
     "output_type": "stream",
     "text": [
      "I am an Engineer and enjoy innovating new things \n",
      "that is why i want to learn 30 days of \n",
      "python challenge\n"
     ]
    }
   ],
   "source": [
    "multiline_string =\"\"\"I am an Engineer and enjoy innovating new things \n",
    "that is why i want to learn 30 days of \n",
    "python challenge\"\"\"\n",
    "\n",
    "print(multiline_string)"
   ]
  },
  {
   "cell_type": "markdown",
   "id": "4c3e2a60-642c-42d4-821e-3ed6b0acb677",
   "metadata": {},
   "source": [
    "# String concatenation"
   ]
  },
  {
   "cell_type": "code",
   "execution_count": 16,
   "id": "640843ec-3360-46bd-b5cd-5b2e056ee698",
   "metadata": {},
   "outputs": [
    {
     "name": "stdout",
     "output_type": "stream",
     "text": [
      "sushma patil\n"
     ]
    }
   ],
   "source": [
    "f_name ='sushma'\n",
    "l_name = 'patil'\n",
    "space =' '\n",
    "full_name = f_name + space + l_name\n",
    "print(full_name)"
   ]
  },
  {
   "cell_type": "code",
   "execution_count": 18,
   "id": "738b66f1-9716-432a-8f97-9bb6e7d06815",
   "metadata": {},
   "outputs": [
    {
     "name": "stdout",
     "output_type": "stream",
     "text": [
      "False\n"
     ]
    }
   ],
   "source": [
    "print(len(l_name) > len(f_name))"
   ]
  },
  {
   "cell_type": "code",
   "execution_count": 19,
   "id": "6145f649-5411-4bd6-84eb-b87adef0048e",
   "metadata": {},
   "outputs": [
    {
     "name": "stdout",
     "output_type": "stream",
     "text": [
      "12\n"
     ]
    }
   ],
   "source": [
    "print(len(full_name))"
   ]
  },
  {
   "cell_type": "markdown",
   "id": "8f970cee-c930-4313-a1e2-77034390de91",
   "metadata": {},
   "source": [
    "# Unpacking Characters"
   ]
  },
  {
   "cell_type": "code",
   "execution_count": 21,
   "id": "5e8ae2ba-2cd9-44bb-b6ce-08c5c08f8d9e",
   "metadata": {},
   "outputs": [
    {
     "name": "stdout",
     "output_type": "stream",
     "text": [
      "P\n",
      "y\n",
      "t\n",
      "h\n",
      "o\n",
      "n\n"
     ]
    }
   ],
   "source": [
    "Language = 'Python'\n",
    "a,b,c,d,e,f = Language # unpacking sequence characters into variables\n",
    "print(a)\n",
    "print(b)\n",
    "print(c)\n",
    "print(d)\n",
    "print(e)\n",
    "print(f)"
   ]
  },
  {
   "cell_type": "markdown",
   "id": "a374e68e-932d-4e6b-8876-03fd0f4d67f4",
   "metadata": {},
   "source": [
    "# Accessing a characters in strings by index"
   ]
  },
  {
   "cell_type": "code",
   "execution_count": 23,
   "id": "e49866ac-bc30-4d34-a7b9-2a9e103bd2a6",
   "metadata": {},
   "outputs": [
    {
     "name": "stdout",
     "output_type": "stream",
     "text": [
      "P\n"
     ]
    }
   ],
   "source": [
    "language = 'Python'\n",
    "f_letter = language[0]\n",
    "print(f_letter)"
   ]
  },
  {
   "cell_type": "code",
   "execution_count": 25,
   "id": "d3edf5e1-17d9-490e-8966-160207249679",
   "metadata": {},
   "outputs": [
    {
     "name": "stdout",
     "output_type": "stream",
     "text": [
      "y\n"
     ]
    }
   ],
   "source": [
    "s_letter = language[1]\n",
    "print(s_letter)"
   ]
  },
  {
   "cell_type": "code",
   "execution_count": 27,
   "id": "aa3d2562-380f-4bc1-b460-a7a27f92f46e",
   "metadata": {},
   "outputs": [
    {
     "name": "stdout",
     "output_type": "stream",
     "text": [
      "n\n"
     ]
    }
   ],
   "source": [
    "last_index = len(language) - 1\n",
    "last_letter = language[last_index]\n",
    "print(last_letter)"
   ]
  },
  {
   "cell_type": "markdown",
   "id": "09f9d62a-c236-4a81-9e49-2d4674c4bb48",
   "metadata": {},
   "source": [
    "# if we are start from the right end we can use negetive indexing  -1 will assigned to right side first leter "
   ]
  },
  {
   "cell_type": "code",
   "execution_count": 29,
   "id": "43995434-7910-4c40-8a2e-07092ace4cc2",
   "metadata": {},
   "outputs": [
    {
     "name": "stdout",
     "output_type": "stream",
     "text": [
      "n\n"
     ]
    }
   ],
   "source": [
    "language = 'python'\n",
    "print(language[-1])"
   ]
  },
  {
   "cell_type": "code",
   "execution_count": 32,
   "id": "f5c56a5e-ffd3-4af5-8127-7b7b4c0ff15d",
   "metadata": {},
   "outputs": [
    {
     "data": {
      "text/plain": [
       "'h'"
      ]
     },
     "execution_count": 32,
     "metadata": {},
     "output_type": "execute_result"
    }
   ],
   "source": [
    "language[-3]"
   ]
  },
  {
   "cell_type": "code",
   "execution_count": 33,
   "id": "97a9e02c-682a-4326-90c3-9c1caba28d50",
   "metadata": {},
   "outputs": [
    {
     "name": "stdout",
     "output_type": "stream",
     "text": [
      "p\n"
     ]
    }
   ],
   "source": [
    "print(language[-6])"
   ]
  },
  {
   "cell_type": "markdown",
   "id": "2574e1ab-3f42-4d55-80eb-9ddf0648a14c",
   "metadata": {},
   "source": [
    "# Slicing"
   ]
  },
  {
   "cell_type": "code",
   "execution_count": 36,
   "id": "9a0b245f-854e-404d-930a-f195f0c890f8",
   "metadata": {},
   "outputs": [
    {
     "data": {
      "text/plain": [
       "'Pyt'"
      ]
     },
     "execution_count": 36,
     "metadata": {},
     "output_type": "execute_result"
    }
   ],
   "source": [
    "language = 'Python'\n",
    "first_three = language[0:3]\n",
    "first_three"
   ]
  },
  {
   "cell_type": "code",
   "execution_count": 37,
   "id": "855c96b7-c332-4bbd-892f-cd4af57286a5",
   "metadata": {},
   "outputs": [
    {
     "data": {
      "text/plain": [
       "'hon'"
      ]
     },
     "execution_count": 37,
     "metadata": {},
     "output_type": "execute_result"
    }
   ],
   "source": [
    "last_three = language[3:6]\n",
    "last_three"
   ]
  },
  {
   "cell_type": "code",
   "execution_count": 38,
   "id": "39a15fec-8caf-4c75-b41c-d5b5f81287a4",
   "metadata": {},
   "outputs": [
    {
     "data": {
      "text/plain": [
       "'hon'"
      ]
     },
     "execution_count": 38,
     "metadata": {},
     "output_type": "execute_result"
    }
   ],
   "source": [
    "last_three = language[-3:]\n",
    "last_three"
   ]
  },
  {
   "cell_type": "code",
   "execution_count": 39,
   "id": "fe13a98c-3234-44fb-b37b-a7f0f80104ff",
   "metadata": {},
   "outputs": [
    {
     "data": {
      "text/plain": [
       "'hon'"
      ]
     },
     "execution_count": 39,
     "metadata": {},
     "output_type": "execute_result"
    }
   ],
   "source": [
    "last_three = language[3:]\n",
    "last_three"
   ]
  },
  {
   "cell_type": "markdown",
   "id": "02657dc2-32fb-4915-a033-f908cc1db537",
   "metadata": {},
   "source": [
    "# Skipping characters while splitting strings"
   ]
  },
  {
   "cell_type": "code",
   "execution_count": 40,
   "id": "c0773be4-882f-4cd9-83c6-9501ca76dee3",
   "metadata": {},
   "outputs": [
    {
     "name": "stdout",
     "output_type": "stream",
     "text": [
      "Pto\n"
     ]
    }
   ],
   "source": [
    "language = 'Python'\n",
    "pto = language[0:6:2]\n",
    "print(pto)"
   ]
  },
  {
   "cell_type": "markdown",
   "id": "7a5b5f86-428c-4011-8d9b-0a453ef84325",
   "metadata": {},
   "source": [
    "# Escape sequence"
   ]
  },
  {
   "cell_type": "code",
   "execution_count": 43,
   "id": "78bd4090-8b10-467b-a65e-10351e738c88",
   "metadata": {},
   "outputs": [
    {
     "name": "stdout",
     "output_type": "stream",
     "text": [
      "I am enjoying this python challenge\n",
      " do you ?\n"
     ]
    }
   ],
   "source": [
    "print('I am enjoying this python challenge\\n do you ?') #line break"
   ]
  },
  {
   "cell_type": "code",
   "execution_count": 1,
   "id": "25633b18-a080-4722-9f88-45155336e0af",
   "metadata": {},
   "outputs": [
    {
     "name": "stdout",
     "output_type": "stream",
     "text": [
      "days\tTopics\tExercises\n"
     ]
    }
   ],
   "source": [
    "print('days\\tTopics\\tExercises') #tab "
   ]
  },
  {
   "cell_type": "code",
   "execution_count": 2,
   "id": "971eebec-21c4-4be4-a401-01612c5e9d70",
   "metadata": {},
   "outputs": [
    {
     "name": "stdout",
     "output_type": "stream",
     "text": [
      "day 1\t3\t5\n",
      "day 2\t3\t5\n",
      "day 3\t3\t5\n",
      "day 4\t3\t5\n"
     ]
    }
   ],
   "source": [
    "print('day 1\\t3\\t5')\n",
    "print('day 2\\t3\\t5')\n",
    "print('day 3\\t3\\t5')\n",
    "print('day 4\\t3\\t5')"
   ]
  },
  {
   "cell_type": "code",
   "execution_count": 3,
   "id": "c2f2120b-2eba-4c29-9c56-3420cd89b38f",
   "metadata": {},
   "outputs": [
    {
     "name": "stdout",
     "output_type": "stream",
     "text": [
      "this is a back slash symbol (\\)\n"
     ]
    }
   ],
   "source": [
    "print('this is a back slash symbol (\\\\)') # to write a back slash"
   ]
  },
  {
   "cell_type": "code",
   "execution_count": 5,
   "id": "3035a2a0-ef0f-4aad-812d-55c058a68a71",
   "metadata": {},
   "outputs": [
    {
     "name": "stdout",
     "output_type": "stream",
     "text": [
      "in every programming language it starts with \"hello, world!\"\n"
     ]
    }
   ],
   "source": [
    "print('in every programming language it starts with \\\"hello, world!\\\"')"
   ]
  },
  {
   "cell_type": "markdown",
   "id": "fd1d27ff-1673-4a8c-80da-59a90f258fe4",
   "metadata": {},
   "source": [
    "# String methods "
   ]
  },
  {
   "cell_type": "markdown",
   "id": "81e3e14e-b556-41e3-a5d4-320c6aabda0a",
   "metadata": {},
   "source": [
    "# capitalize() : converts the first character of a string to capital letter"
   ]
  },
  {
   "cell_type": "code",
   "execution_count": 6,
   "id": "071f92fc-676f-4755-a47f-201e247630ed",
   "metadata": {},
   "outputs": [
    {
     "name": "stdout",
     "output_type": "stream",
     "text": [
      "Thirty days of python\n"
     ]
    }
   ],
   "source": [
    "challenge = 'thirty days of python'\n",
    "print(challenge.capitalize())"
   ]
  },
  {
   "cell_type": "markdown",
   "id": "e51c917e-606a-4bf9-a211-58347076ff5a",
   "metadata": {},
   "source": [
    "# count() : resturns the occurances of substring in string"
   ]
  },
  {
   "cell_type": "code",
   "execution_count": 9,
   "id": "d50bc3d4-64aa-4ba0-bcd6-73e3972ea9d0",
   "metadata": {},
   "outputs": [
    {
     "name": "stdout",
     "output_type": "stream",
     "text": [
      "3\n",
      "1\n",
      "2\n"
     ]
    }
   ],
   "source": [
    "challenge = 'thirty days of python'\n",
    "print(challenge.count('y'))\n",
    "print(challenge.count('y',7,14))\n",
    "print(challenge.count('th'))"
   ]
  },
  {
   "cell_type": "markdown",
   "id": "2083b294-cb05-4776-8be1-cd3dbf6c8358",
   "metadata": {},
   "source": [
    "# endswith(0 : checks if string ends with a specified ending "
   ]
  },
  {
   "cell_type": "code",
   "execution_count": 11,
   "id": "be99bce2-d1aa-4e6d-a942-041e561ce61d",
   "metadata": {},
   "outputs": [
    {
     "name": "stdout",
     "output_type": "stream",
     "text": [
      "thirty  day     of      python\n",
      "thirty    day       of        python\n"
     ]
    }
   ],
   "source": [
    "challenge = 'thirty\\tday\\tof\\tpython'\n",
    "print(challenge.expandtabs())\n",
    "print(challenge.expandtabs(10))\n"
   ]
  },
  {
   "cell_type": "markdown",
   "id": "dac1e583-ddbb-4214-8271-e800438513a5",
   "metadata": {},
   "source": [
    "# find() : returns the index of first occurance of substring"
   ]
  },
  {
   "cell_type": "code",
   "execution_count": 12,
   "id": "febc63ba-9dba-4a50-a825-0d7b7227c6f7",
   "metadata": {},
   "outputs": [
    {
     "name": "stdout",
     "output_type": "stream",
     "text": [
      "5\n",
      "0\n"
     ]
    }
   ],
   "source": [
    "challenge = 'thirty days of python'\n",
    "print(challenge.find('y'))\n",
    "print(challenge.find('th'))"
   ]
  },
  {
   "cell_type": "markdown",
   "id": "0f4b0754-faec-4c37-bce8-869f104fabfc",
   "metadata": {},
   "source": [
    "# format() formats a string to nicer output"
   ]
  },
  {
   "cell_type": "code",
   "execution_count": 14,
   "id": "84334485-3a74-468f-98f2-3ab35ab84c5f",
   "metadata": {},
   "outputs": [
    {
     "name": "stdout",
     "output_type": "stream",
     "text": [
      "I am sushma patil . i am an engineer , i live in Inida.\n"
     ]
    }
   ],
   "source": [
    "f_name = 'sushma'\n",
    "l_name = 'patil'\n",
    "job = 'engineer'\n",
    "country = 'Inida'\n",
    "sentence = 'I am {} {} . i am an {} , i live in {}.'.format(f_name,l_name,job,country)\n",
    "print(sentence)\n"
   ]
  },
  {
   "cell_type": "code",
   "execution_count": 19,
   "id": "fc1247e9-f3ed-4f11-ac3a-88a1abaccf8a",
   "metadata": {},
   "outputs": [
    {
     "name": "stdout",
     "output_type": "stream",
     "text": [
      "The area of circle with 10 is 3.14\n"
     ]
    }
   ],
   "source": [
    "radius = 10\n",
    "pi = 3.14\n",
    "area = pi * radius**2\n",
    "result = 'The area of circle with {} is {}'.format(str(radius),str(pi))\n",
    "print(result)"
   ]
  },
  {
   "cell_type": "markdown",
   "id": "b59f6b6b-2a41-4899-8b29-7e054aa08667",
   "metadata": {},
   "source": [
    "# index() : returns the index of substring"
   ]
  },
  {
   "cell_type": "code",
   "execution_count": 21,
   "id": "ecb718fb-b0d0-4f04-acb3-5e459bb71d4d",
   "metadata": {},
   "outputs": [
    {
     "name": "stdout",
     "output_type": "stream",
     "text": [
      "15\n",
      "0\n"
     ]
    }
   ],
   "source": [
    "challenge = 'thirty days of python'\n",
    "print(challenge.index('p'))\n",
    "print(challenge.find('t'))"
   ]
  },
  {
   "cell_type": "markdown",
   "id": "b887418c-6ff2-4735-956b-b7a231681f3e",
   "metadata": {},
   "source": [
    "# isalnum() : checks for alphanumeric character"
   ]
  },
  {
   "cell_type": "code",
   "execution_count": 22,
   "id": "1f468cb5-0bae-4c99-9622-526b02a285aa",
   "metadata": {},
   "outputs": [
    {
     "name": "stdout",
     "output_type": "stream",
     "text": [
      "True\n"
     ]
    }
   ],
   "source": [
    "challenge = 'Thirtydaysofpython'\n",
    "print(challenge.isalnum())"
   ]
  },
  {
   "cell_type": "code",
   "execution_count": 23,
   "id": "e2fb005f-f311-4dc6-80d1-63f184d7b1a3",
   "metadata": {},
   "outputs": [
    {
     "name": "stdout",
     "output_type": "stream",
     "text": [
      "True\n"
     ]
    }
   ],
   "source": [
    "challenge = '30daysofpython'\n",
    "print(challenge.isalnum())"
   ]
  },
  {
   "cell_type": "code",
   "execution_count": 24,
   "id": "d09be77f-7143-4170-9bf9-78ee0aa17145",
   "metadata": {},
   "outputs": [
    {
     "name": "stdout",
     "output_type": "stream",
     "text": [
      "False\n"
     ]
    }
   ],
   "source": [
    "challenge = 'Thirty days of python'\n",
    "print(challenge.isalnum())"
   ]
  },
  {
   "cell_type": "markdown",
   "id": "98855109-486c-432d-8261-9cbdc3227269",
   "metadata": {},
   "source": [
    "# isalpha()  : which checks for all characters of string is alphabets or not "
   ]
  },
  {
   "cell_type": "code",
   "execution_count": 26,
   "id": "6fa534a0-acf5-4dda-9d19-2abeb695f6ff",
   "metadata": {},
   "outputs": [
    {
     "name": "stdout",
     "output_type": "stream",
     "text": [
      "False\n"
     ]
    }
   ],
   "source": [
    "challenge = 'thirty days of python'   \n",
    "print(challenge.isalpha())\n",
    "# spaces are present so its false "
   ]
  },
  {
   "cell_type": "code",
   "execution_count": 27,
   "id": "53fe3b25-82b2-43a0-bb90-4d0b8e9fc1ac",
   "metadata": {},
   "outputs": [
    {
     "name": "stdout",
     "output_type": "stream",
     "text": [
      "True\n"
     ]
    }
   ],
   "source": [
    "challenge = 'thirtydaysofpython'   \n",
    "print(challenge.isalpha())"
   ]
  },
  {
   "cell_type": "code",
   "execution_count": 28,
   "id": "26a29a7b-78ad-4f6d-a5f4-53a42f01ead4",
   "metadata": {},
   "outputs": [
    {
     "name": "stdout",
     "output_type": "stream",
     "text": [
      "False\n"
     ]
    }
   ],
   "source": [
    "num ='123'\n",
    "print(num.isalpha())"
   ]
  },
  {
   "cell_type": "markdown",
   "id": "08c9f472-5669-4cc9-b8b0-92b3ca9b338e",
   "metadata": {},
   "source": [
    "# isdecimal () : checks for decimal characters "
   ]
  },
  {
   "cell_type": "code",
   "execution_count": 30,
   "id": "a4889d2a-bf11-4ce5-ac70-f6ead5bf925a",
   "metadata": {},
   "outputs": [
    {
     "name": "stdout",
     "output_type": "stream",
     "text": [
      "5\n",
      "0\n"
     ]
    }
   ],
   "source": [
    "challenge = 'thirty days of python'\n",
    "print(challenge.find('y'))\n",
    "print(challenge.find('th'))     "
   ]
  },
  {
   "cell_type": "code",
   "execution_count": 33,
   "id": "b81220ba-e320-4713-b56e-aaf25aa7612f",
   "metadata": {},
   "outputs": [
    {
     "name": "stdout",
     "output_type": "stream",
     "text": [
      "True\n",
      "True\n"
     ]
    }
   ],
   "source": [
    "num = '10'\n",
    "print(challenge.isdecimal())\n",
    "num = '10.5'\n",
    "print(challenge.isdecimal())"
   ]
  },
  {
   "cell_type": "markdown",
   "id": "aadbfd6d-a4ce-45c6-b754-5cb85d76bc4d",
   "metadata": {},
   "source": [
    "# isdegit() : checks for digit characters"
   ]
  },
  {
   "cell_type": "code",
   "execution_count": 31,
   "id": "901cff06-ceb5-4f86-b460-e65e6acc7ce0",
   "metadata": {},
   "outputs": [
    {
     "name": "stdout",
     "output_type": "stream",
     "text": [
      "False\n"
     ]
    }
   ],
   "source": [
    "challenge ='Thirty'\n",
    "print(challenge.isdigit())"
   ]
  },
  {
   "cell_type": "code",
   "execution_count": 32,
   "id": "c4226c18-97e7-48f1-bdce-71a7f0d8bc66",
   "metadata": {},
   "outputs": [
    {
     "name": "stdout",
     "output_type": "stream",
     "text": [
      "True\n"
     ]
    }
   ],
   "source": [
    "challenge ='30'\n",
    "print(challenge.isdigit())"
   ]
  },
  {
   "cell_type": "markdown",
   "id": "035829cb-5642-4a69-bbe7-e6f2ffb107b7",
   "metadata": {},
   "source": [
    "# isidentifier() : checks for valid identifier means it checks if a string is valid variable or not "
   ]
  },
  {
   "cell_type": "code",
   "execution_count": 34,
   "id": "87b9cc5c-eded-4c98-9e77-7488b1236717",
   "metadata": {},
   "outputs": [
    {
     "name": "stdout",
     "output_type": "stream",
     "text": [
      "False\n"
     ]
    }
   ],
   "source": [
    "challenge = '30daysofpython'   \n",
    "print(challenge.isidentifier())"
   ]
  },
  {
   "cell_type": "code",
   "execution_count": 37,
   "id": "30925745-b360-4fea-a2a4-b84c2ea4a356",
   "metadata": {},
   "outputs": [
    {
     "name": "stdout",
     "output_type": "stream",
     "text": [
      "True\n"
     ]
    }
   ],
   "source": [
    "challenge = 'Thirty_days_of_python'\n",
    "print(challenge.isidentifier())"
   ]
  },
  {
   "cell_type": "markdown",
   "id": "6c1715f3-aae7-4730-a431-88d59815f9b9",
   "metadata": {},
   "source": [
    "# isupper : checks for all the charaters in strings are upper or not "
   ]
  },
  {
   "cell_type": "code",
   "execution_count": 38,
   "id": "e4d66b73-e32d-41ac-ac83-afe077b98e5b",
   "metadata": {},
   "outputs": [
    {
     "name": "stdout",
     "output_type": "stream",
     "text": [
      "False\n"
     ]
    }
   ],
   "source": [
    "challenge = 'Thirty days of python'\n",
    "print(challenge.isupper())"
   ]
  },
  {
   "cell_type": "code",
   "execution_count": 40,
   "id": "05863322-e9c5-48aa-b899-2747426b44d2",
   "metadata": {},
   "outputs": [
    {
     "name": "stdout",
     "output_type": "stream",
     "text": [
      "True\n"
     ]
    }
   ],
   "source": [
    "challenge = 'thirty days of python'\n",
    "print(challenge.islower())"
   ]
  },
  {
   "cell_type": "markdown",
   "id": "74682d98-9ea8-4e8a-bd89-c63fc2387c10",
   "metadata": {},
   "source": [
    "# isnumeric() checks for numeric characters "
   ]
  },
  {
   "cell_type": "code",
   "execution_count": 42,
   "id": "2b8ab75c-2eda-404f-b7cb-7eae65fa0390",
   "metadata": {},
   "outputs": [
    {
     "name": "stdout",
     "output_type": "stream",
     "text": [
      "True\n",
      "False\n"
     ]
    }
   ],
   "source": [
    "num = '10'\n",
    "print(num.isnumeric())\n",
    "print('ten'.isnumeric())"
   ]
  },
  {
   "cell_type": "markdown",
   "id": "d5bceaa1-ad35-43eb-b4a5-c7326edb311d",
   "metadata": {},
   "source": [
    "# join() : returns a concetanated string"
   ]
  },
  {
   "cell_type": "code",
   "execution_count": 44,
   "id": "eb366d24-358f-498e-9988-ea1e8715eb78",
   "metadata": {},
   "outputs": [
    {
     "name": "stdout",
     "output_type": "stream",
     "text": [
      "Html#,CSS#,JS#,react\n"
     ]
    }
   ],
   "source": [
    "web_tech =['Html','CSS','JS','react']\n",
    "result = '#,'. join(web_tech)\n",
    "print(result)"
   ]
  },
  {
   "cell_type": "markdown",
   "id": "873b0fa3-a1a1-404b-9e22-4abf10b2154e",
   "metadata": {},
   "source": [
    "# strip() removes both leding and trailing characters  "
   ]
  },
  {
   "cell_type": "code",
   "execution_count": 46,
   "id": "4eec7896-bcd7-4ce9-9856-fe1af1cdffb4",
   "metadata": {},
   "outputs": [
    {
     "name": "stdout",
     "output_type": "stream",
     "text": [
      "thirty days of python\n"
     ]
    }
   ],
   "source": [
    "challenge = 'thirty days of python'\n",
    "print(challenge.strip('y')) \n",
    "\n",
    "#since statement doesn't starts with the mentioned character it gives the same full string"
   ]
  },
  {
   "cell_type": "code",
   "execution_count": 47,
   "id": "141894b3-2534-4c59-9991-8e5aaa6145e8",
   "metadata": {},
   "outputs": [
    {
     "name": "stdout",
     "output_type": "stream",
     "text": [
      "hirty days of python\n"
     ]
    }
   ],
   "source": [
    "challenge = 'thirty days of python'\n",
    "print(challenge.strip('t')) \n",
    "\n",
    "# statement started with t it got stripped "
   ]
  },
  {
   "cell_type": "markdown",
   "id": "17f4ec01-38da-4dcb-b40d-60e790bfdaaf",
   "metadata": {},
   "source": [
    "# replace() relaces a substring inside"
   ]
  },
  {
   "cell_type": "code",
   "execution_count": 48,
   "id": "17601b38-7e74-4286-9ecc-1a74bc902fea",
   "metadata": {},
   "outputs": [
    {
     "name": "stdout",
     "output_type": "stream",
     "text": [
      "thirty days of coding\n"
     ]
    }
   ],
   "source": [
    "challenge = 'thirty days of python'\n",
    "print(challenge.replace('python', 'coding')) "
   ]
  },
  {
   "cell_type": "markdown",
   "id": "b0685243-6e65-404d-90d9-fb88d499044e",
   "metadata": {},
   "source": [
    "# split() splits a string from left"
   ]
  },
  {
   "cell_type": "code",
   "execution_count": 49,
   "id": "eee6a245-dd73-453e-93db-da37ba08f58a",
   "metadata": {},
   "outputs": [
    {
     "name": "stdout",
     "output_type": "stream",
     "text": [
      "['thirty', 'days', 'of', 'python']\n"
     ]
    }
   ],
   "source": [
    "challenge = 'thirty days of python'\n",
    "print(challenge.split()) "
   ]
  },
  {
   "cell_type": "markdown",
   "id": "b91b78a2-a4ea-4c55-ab75-e5d1a74e67ae",
   "metadata": {},
   "source": [
    "# title()  returns a title cased string#"
   ]
  },
  {
   "cell_type": "code",
   "execution_count": 50,
   "id": "c2c4e92d-d645-49cc-8125-645c6e5b3145",
   "metadata": {},
   "outputs": [
    {
     "name": "stdout",
     "output_type": "stream",
     "text": [
      "Thirty Days Of Python\n"
     ]
    }
   ],
   "source": [
    "challenge = 'thirty days of python'\n",
    "print(challenge.title()) "
   ]
  },
  {
   "cell_type": "markdown",
   "id": "04785a2c-abe7-4229-a7cd-68ddd14266af",
   "metadata": {},
   "source": [
    "# swapcase() checks if a string starts with specified string "
   ]
  },
  {
   "cell_type": "code",
   "execution_count": 52,
   "id": "c11f7dc9-3796-41cf-97c9-c10fed4e8ae7",
   "metadata": {},
   "outputs": [
    {
     "name": "stdout",
     "output_type": "stream",
     "text": [
      "THIRTY DAYS OF PYTHON\n",
      "thirty days of python\n"
     ]
    }
   ],
   "source": [
    "challenge = 'thirty days of python'\n",
    "print(challenge.swapcase()) \n",
    "\n",
    "challenge = 'THIRTY DAYS OF PYTHON'\n",
    "print(challenge.swapcase())\n",
    "\n"
   ]
  },
  {
   "cell_type": "markdown",
   "id": "f8939267-57dc-4edc-9f20-ee7dad648063",
   "metadata": {},
   "source": [
    "# starts with () cheks if a strings starts wuth specified string or not"
   ]
  },
  {
   "cell_type": "code",
   "execution_count": 53,
   "id": "24fd1913-affe-4903-bc2d-befef6870c27",
   "metadata": {},
   "outputs": [
    {
     "name": "stdout",
     "output_type": "stream",
     "text": [
      "True\n"
     ]
    }
   ],
   "source": [
    "challenge = 'thirty days of python'\n",
    "print(challenge.startswith('thirty')) "
   ]
  },
  {
   "cell_type": "code",
   "execution_count": null,
   "id": "8b0c5ef5-b0e9-4266-b239-ef21951b546a",
   "metadata": {},
   "outputs": [],
   "source": []
  },
  {
   "cell_type": "code",
   "execution_count": null,
   "id": "363f5eaa-7fee-464d-937e-5ee71bf5e3c6",
   "metadata": {},
   "outputs": [],
   "source": []
  },
  {
   "cell_type": "code",
   "execution_count": null,
   "id": "d6f7f150-6825-4703-84ce-352f5a583a54",
   "metadata": {},
   "outputs": [],
   "source": []
  },
  {
   "cell_type": "code",
   "execution_count": null,
   "id": "ca3caa51-dc00-4857-952d-f305c12a0cef",
   "metadata": {},
   "outputs": [],
   "source": []
  },
  {
   "cell_type": "code",
   "execution_count": null,
   "id": "d1a403bc-60f8-475d-a59d-1bd1e597f4e8",
   "metadata": {},
   "outputs": [],
   "source": []
  },
  {
   "cell_type": "code",
   "execution_count": null,
   "id": "8f98e287-3360-4739-b5a5-4013e3486936",
   "metadata": {},
   "outputs": [],
   "source": []
  },
  {
   "cell_type": "code",
   "execution_count": null,
   "id": "abe980c5-5989-4073-9a61-33c201a26b73",
   "metadata": {},
   "outputs": [],
   "source": []
  }
 ],
 "metadata": {
  "kernelspec": {
   "display_name": "Python 3 (ipykernel)",
   "language": "python",
   "name": "python3"
  },
  "language_info": {
   "codemirror_mode": {
    "name": "ipython",
    "version": 3
   },
   "file_extension": ".py",
   "mimetype": "text/x-python",
   "name": "python",
   "nbconvert_exporter": "python",
   "pygments_lexer": "ipython3",
   "version": "3.12.7"
  }
 },
 "nbformat": 4,
 "nbformat_minor": 5
}
