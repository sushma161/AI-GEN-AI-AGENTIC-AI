{
 "cells": [
  {
   "cell_type": "markdown",
   "id": "bbcaed24-d9dc-4337-8db6-9e3424aaf90e",
   "metadata": {},
   "source": [
    "# Bitwise operator ( used for image recognition)\n",
    "\n",
    "# 6types of bitwise operators\n",
    "\n",
    "-complement --> give negetive values (~) , alternative way to store it in the memory\n",
    "\n",
    "-and --> &\n",
    "-or --> |\n",
    "-xor (exclusive Or)\n",
    "-leftshift <<\n",
    "-rightshift >>\n",
    "\n",
    "# swapping\n"
   ]
  },
  {
   "cell_type": "code",
   "execution_count": 1,
   "id": "ae0e8ddd-c50a-4a35-a9bd-e48c2370b5a4",
   "metadata": {},
   "outputs": [
    {
     "data": {
      "text/plain": [
       "-13"
      ]
     },
     "execution_count": 1,
     "metadata": {},
     "output_type": "execute_result"
    }
   ],
   "source": [
    "~12"
   ]
  },
  {
   "cell_type": "code",
   "execution_count": 2,
   "id": "8c54d72d-b38f-4caa-b21f-b9689a0a3720",
   "metadata": {},
   "outputs": [
    {
     "data": {
      "text/plain": [
       "-4"
      ]
     },
     "execution_count": 2,
     "metadata": {},
     "output_type": "execute_result"
    }
   ],
   "source": [
    "~3"
   ]
  },
  {
   "cell_type": "code",
   "execution_count": 3,
   "id": "d28956dd-fe77-4b59-b300-1db51cc7ded8",
   "metadata": {},
   "outputs": [
    {
     "data": {
      "text/plain": [
       "1"
      ]
     },
     "execution_count": 3,
     "metadata": {},
     "output_type": "execute_result"
    }
   ],
   "source": [
    "~-2"
   ]
  },
  {
   "cell_type": "markdown",
   "id": "1cd2f129-d9eb-48d3-be5c-b2918069b2c0",
   "metadata": {},
   "source": [
    "# bitwise and operator"
   ]
  },
  {
   "cell_type": "code",
   "execution_count": 4,
   "id": "bbcc1f2c-4991-42ae-8aae-d72224257548",
   "metadata": {},
   "outputs": [
    {
     "data": {
      "text/plain": [
       "12"
      ]
     },
     "execution_count": 4,
     "metadata": {},
     "output_type": "execute_result"
    }
   ],
   "source": [
    "12 & 13"
   ]
  },
  {
   "cell_type": "code",
   "execution_count": 5,
   "id": "0441fa08-bec0-48bb-b53d-87683f5ab996",
   "metadata": {},
   "outputs": [
    {
     "data": {
      "text/plain": [
       "13"
      ]
     },
     "execution_count": 5,
     "metadata": {},
     "output_type": "execute_result"
    }
   ],
   "source": [
    "12 | 13"
   ]
  },
  {
   "cell_type": "code",
   "execution_count": 6,
   "id": "8f150dd6-7b6d-47c7-9684-c13227d40347",
   "metadata": {},
   "outputs": [
    {
     "data": {
      "text/plain": [
       "0"
      ]
     },
     "execution_count": 6,
     "metadata": {},
     "output_type": "execute_result"
    }
   ],
   "source": [
    "1 & 0"
   ]
  },
  {
   "cell_type": "code",
   "execution_count": 7,
   "id": "c66a6b21-f926-42e1-ab80-2515ad2870d4",
   "metadata": {},
   "outputs": [
    {
     "data": {
      "text/plain": [
       "1"
      ]
     },
     "execution_count": 7,
     "metadata": {},
     "output_type": "execute_result"
    }
   ],
   "source": [
    "1 | 0"
   ]
  },
  {
   "cell_type": "markdown",
   "id": "b062a3c8-c558-4bac-a8bc-66d76d82c00c",
   "metadata": {},
   "source": [
    "# xor \n",
    "0 0 - 0\n",
    "0 1 - 1\n",
    "1 0 - 1\n",
    "1 1 - 0"
   ]
  },
  {
   "cell_type": "code",
   "execution_count": 8,
   "id": "80b31741-3b28-4504-905a-59952db55624",
   "metadata": {},
   "outputs": [
    {
     "data": {
      "text/plain": [
       "1"
      ]
     },
     "execution_count": 8,
     "metadata": {},
     "output_type": "execute_result"
    }
   ],
   "source": [
    "12^13"
   ]
  },
  {
   "cell_type": "code",
   "execution_count": 9,
   "id": "8cb40c12-0ada-4802-aac8-247641e0dcb4",
   "metadata": {},
   "outputs": [
    {
     "data": {
      "text/plain": [
       "3"
      ]
     },
     "execution_count": 9,
     "metadata": {},
     "output_type": "execute_result"
    }
   ],
   "source": [
    "1 ^ 2"
   ]
  },
  {
   "cell_type": "code",
   "execution_count": 10,
   "id": "afa95b50-0b00-444f-b4dd-902f4e797f51",
   "metadata": {},
   "outputs": [
    {
     "data": {
      "text/plain": [
       "10"
      ]
     },
     "execution_count": 10,
     "metadata": {},
     "output_type": "execute_result"
    }
   ],
   "source": [
    "40 ^ 34"
   ]
  },
  {
   "cell_type": "code",
   "execution_count": 11,
   "id": "2638aa54-563c-4b5a-9aa1-335c18dd549b",
   "metadata": {},
   "outputs": [
    {
     "data": {
      "text/plain": [
       "20"
      ]
     },
     "execution_count": 11,
     "metadata": {},
     "output_type": "execute_result"
    }
   ],
   "source": [
    "10<< 1"
   ]
  },
  {
   "cell_type": "code",
   "execution_count": 12,
   "id": "6f47f50c-6058-4dd5-932c-6d3533f848fc",
   "metadata": {},
   "outputs": [
    {
     "data": {
      "text/plain": [
       "40"
      ]
     },
     "execution_count": 12,
     "metadata": {},
     "output_type": "execute_result"
    }
   ],
   "source": [
    "10 << 2 # gain bits"
   ]
  },
  {
   "cell_type": "code",
   "execution_count": 13,
   "id": "962648e8-db8e-4196-bd5f-abdc6e9cdba9",
   "metadata": {},
   "outputs": [
    {
     "data": {
      "text/plain": [
       "5"
      ]
     },
     "execution_count": 13,
     "metadata": {},
     "output_type": "execute_result"
    }
   ],
   "source": [
    "10 >> 1 # loose bits"
   ]
  },
  {
   "cell_type": "markdown",
   "id": "7d9c10c5-9093-4f66-b48b-664c46432b7c",
   "metadata": {},
   "source": [
    "# swapping concepts"
   ]
  },
  {
   "cell_type": "code",
   "execution_count": null,
   "id": "89429fc3-77f2-4524-82e7-a1c5328da6c3",
   "metadata": {},
   "outputs": [],
   "source": [
    "a = 5\n",
    "b = 6\n",
    " convert a = 6 and b = 5"
   ]
  },
  {
   "cell_type": "code",
   "execution_count": 16,
   "id": "d517b2bb-ab4a-4d36-b7c2-ec8654795031",
   "metadata": {},
   "outputs": [
    {
     "name": "stdout",
     "output_type": "stream",
     "text": [
      "6\n",
      "5\n"
     ]
    }
   ],
   "source": [
    "#using a, b = b,a \n",
    "a = 5\n",
    "b = 6\n",
    "a,b = b,a\n",
    "print(a)\n",
    "print(b)"
   ]
  },
  {
   "cell_type": "code",
   "execution_count": 17,
   "id": "524da872-8b96-4d07-b7c9-98ab9d4f572b",
   "metadata": {},
   "outputs": [
    {
     "name": "stdout",
     "output_type": "stream",
     "text": [
      "6\n",
      "5\n"
     ]
    }
   ],
   "source": [
    "#using third variable \n",
    "a = 5\n",
    "b = 6\n",
    "temp = a\n",
    "a = b\n",
    "b = temp\n",
    "print(a)\n",
    "print(b)"
   ]
  },
  {
   "cell_type": "code",
   "execution_count": 18,
   "id": "776f8c4e-df54-4a5c-b82c-f45d9726c431",
   "metadata": {},
   "outputs": [
    {
     "name": "stdout",
     "output_type": "stream",
     "text": [
      "6\n",
      "5\n"
     ]
    }
   ],
   "source": [
    "a = 5\n",
    "b = 6\n",
    "a = a +b \n",
    "b= a -b\n",
    "a = a-b\n",
    "print(a)\n",
    "print(b)"
   ]
  },
  {
   "cell_type": "code",
   "execution_count": 19,
   "id": "d661aa87-11d0-4ed6-9726-8fd7fe70eef1",
   "metadata": {},
   "outputs": [
    {
     "name": "stdout",
     "output_type": "stream",
     "text": [
      "6\n",
      "5\n"
     ]
    }
   ],
   "source": [
    "#using xor\n",
    "a = 5\n",
    "b = 6\n",
    "a = a ^b \n",
    "b= a ^b\n",
    "a = a^b\n",
    "print(a)\n",
    "print(b)"
   ]
  },
  {
   "cell_type": "markdown",
   "id": "c6465c9f-163e-4531-84ef-c35c7508aa8a",
   "metadata": {},
   "source": [
    "# strings are immutable by indexing and slicing we can update the string "
   ]
  },
  {
   "cell_type": "code",
   "execution_count": 20,
   "id": "05817479-082e-4409-9030-0e2eb94a5de6",
   "metadata": {},
   "outputs": [
    {
     "data": {
      "text/plain": [
       "'dine'"
      ]
     },
     "execution_count": 20,
     "metadata": {},
     "output_type": "execute_result"
    }
   ],
   "source": [
    "name = 'dine'\n",
    "name"
   ]
  },
  {
   "cell_type": "code",
   "execution_count": 24,
   "id": "e8beaaa4-bcb7-486c-821c-e1e5368f4aae",
   "metadata": {},
   "outputs": [
    {
     "data": {
      "text/plain": [
       "'ine'"
      ]
     },
     "execution_count": 24,
     "metadata": {},
     "output_type": "execute_result"
    }
   ],
   "source": [
    "# dine should be updated as fine \n",
    "\n",
    "name[1:]\n"
   ]
  },
  {
   "cell_type": "code",
   "execution_count": 27,
   "id": "ef19e6a4-e6df-4bd5-ade8-36a59d2b732b",
   "metadata": {},
   "outputs": [
    {
     "data": {
      "text/plain": [
       "'fine'"
      ]
     },
     "execution_count": 27,
     "metadata": {},
     "output_type": "execute_result"
    }
   ],
   "source": [
    "'f' + name[1:]\n"
   ]
  },
  {
   "cell_type": "markdown",
   "id": "3e94e72f-b2cc-49ea-93b0-a3dd1e7448bb",
   "metadata": {},
   "source": []
  },
  {
   "cell_type": "code",
   "execution_count": null,
   "id": "c5dc96d1-4b58-4d46-880b-4e996053c6d8",
   "metadata": {},
   "outputs": [],
   "source": []
  },
  {
   "cell_type": "code",
   "execution_count": null,
   "id": "8207f5a9-1e5e-4082-825d-d072c5ca4c0a",
   "metadata": {},
   "outputs": [],
   "source": []
  }
 ],
 "metadata": {
  "kernelspec": {
   "display_name": "Python 3 (ipykernel)",
   "language": "python",
   "name": "python3"
  },
  "language_info": {
   "codemirror_mode": {
    "name": "ipython",
    "version": 3
   },
   "file_extension": ".py",
   "mimetype": "text/x-python",
   "name": "python",
   "nbconvert_exporter": "python",
   "pygments_lexer": "ipython3",
   "version": "3.12.7"
  }
 },
 "nbformat": 4,
 "nbformat_minor": 5
}
