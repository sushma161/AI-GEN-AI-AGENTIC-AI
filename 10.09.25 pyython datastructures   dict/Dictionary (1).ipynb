{
 "cells": [
  {
   "cell_type": "markdown",
   "id": "3f49e0b7-5f83-4896-b6f7-d2f104e7d232",
   "metadata": {},
   "source": [
    "# Dictionory {}\n",
    "\n",
    "scenario comes under shopping mall concept ex: 1kg: 70 (key : values)\n",
    "\n",
    "-> format of dictionary is key : value\n",
    "-> dict is mutable"
   ]
  },
  {
   "cell_type": "code",
   "execution_count": 5,
   "id": "4c7c8143-89d3-4f4f-8ea5-4eecb7ef5fe4",
   "metadata": {},
   "outputs": [
    {
     "data": {
      "text/plain": [
       "{}"
      ]
     },
     "execution_count": 5,
     "metadata": {},
     "output_type": "execute_result"
    }
   ],
   "source": [
    "d1 = {}\n",
    "d1"
   ]
  },
  {
   "cell_type": "code",
   "execution_count": 6,
   "id": "c1a0faa2-b03e-4634-a6aa-a9456de58131",
   "metadata": {},
   "outputs": [
    {
     "data": {
      "text/plain": [
       "dict"
      ]
     },
     "execution_count": 6,
     "metadata": {},
     "output_type": "execute_result"
    }
   ],
   "source": [
    "type(d1)"
   ]
  },
  {
   "cell_type": "code",
   "execution_count": 8,
   "id": "2d4f323d-0324-406c-8517-d6b3bd802c48",
   "metadata": {},
   "outputs": [
    {
     "data": {
      "text/plain": [
       "{1: 'one', 2: 'two', 3: 'three', 4: 'four', 5: 'five', 6: 'six'}"
      ]
     },
     "execution_count": 8,
     "metadata": {},
     "output_type": "execute_result"
    }
   ],
   "source": [
    "d1 = {1:'one' , 2: 'two' , 3: 'three' ,4: 'four' , 5: 'five' ,6: 'six'} # priority is for keys than values\n",
    "d1"
   ]
  },
  {
   "cell_type": "code",
   "execution_count": 9,
   "id": "db7280cd-4afb-43ef-8ec0-540a21f8a966",
   "metadata": {},
   "outputs": [
    {
     "data": {
      "text/plain": [
       "6"
      ]
     },
     "execution_count": 9,
     "metadata": {},
     "output_type": "execute_result"
    }
   ],
   "source": [
    "len(d1)"
   ]
  },
  {
   "cell_type": "code",
   "execution_count": 10,
   "id": "c2f0ff99-d767-4e1d-8e7f-a8c0f235842f",
   "metadata": {},
   "outputs": [
    {
     "data": {
      "text/plain": [
       "{}"
      ]
     },
     "execution_count": 10,
     "metadata": {},
     "output_type": "execute_result"
    }
   ],
   "source": [
    "d1.clear()\n",
    "d1"
   ]
  },
  {
   "cell_type": "code",
   "execution_count": 15,
   "id": "1b14616a-325e-4753-b1e5-a637d146edec",
   "metadata": {},
   "outputs": [
    {
     "data": {
      "text/plain": [
       "{1: 'one', 2: 'two', 3: 'three', 4: 'four', 5: 'five', 6: 'six'}"
      ]
     },
     "execution_count": 15,
     "metadata": {},
     "output_type": "execute_result"
    }
   ],
   "source": [
    "d1 = {1:'one' , 2: 'two' , 3: 'three' ,4: 'four' , 5: 'five' ,6: 'six'} # priority is for keys than values\n",
    "d1"
   ]
  },
  {
   "cell_type": "code",
   "execution_count": 16,
   "id": "81e09f92-573d-4728-88ba-eef81e8d1f59",
   "metadata": {},
   "outputs": [],
   "source": [
    "d2=d1.copy()"
   ]
  },
  {
   "cell_type": "code",
   "execution_count": 17,
   "id": "39bfd73b-30e4-4c64-b3ed-2d1b97c9abee",
   "metadata": {},
   "outputs": [
    {
     "data": {
      "text/plain": [
       "{1: 'one', 2: 'two', 3: 'three', 4: 'four', 5: 'five', 6: 'six'}"
      ]
     },
     "execution_count": 17,
     "metadata": {},
     "output_type": "execute_result"
    }
   ],
   "source": [
    "d2"
   ]
  },
  {
   "cell_type": "code",
   "execution_count": 18,
   "id": "70271057-03ba-4482-873a-6b4288126c94",
   "metadata": {},
   "outputs": [
    {
     "data": {
      "text/plain": [
       "{1: 'one', 2: 'two', 3: 'three', 4: 'four', 5: 'five', 6: 'six'}"
      ]
     },
     "execution_count": 18,
     "metadata": {},
     "output_type": "execute_result"
    }
   ],
   "source": [
    "d2"
   ]
  },
  {
   "cell_type": "code",
   "execution_count": 19,
   "id": "2d2cbf39-e523-4474-8e5e-83d456fdfedd",
   "metadata": {},
   "outputs": [
    {
     "data": {
      "text/plain": [
       "True"
      ]
     },
     "execution_count": 19,
     "metadata": {},
     "output_type": "execute_result"
    }
   ],
   "source": [
    "d1 == d2"
   ]
  },
  {
   "cell_type": "code",
   "execution_count": 20,
   "id": "cad5f2cf-3962-4269-90eb-f7ad02460a1a",
   "metadata": {},
   "outputs": [
    {
     "data": {
      "text/plain": [
       "'one'"
      ]
     },
     "execution_count": 20,
     "metadata": {},
     "output_type": "execute_result"
    }
   ],
   "source": [
    "d1.get(1)  # can access value by key"
   ]
  },
  {
   "cell_type": "code",
   "execution_count": 21,
   "id": "3af3e27b-1cf8-474c-9998-30a140548599",
   "metadata": {},
   "outputs": [
    {
     "data": {
      "text/plain": [
       "'six'"
      ]
     },
     "execution_count": 21,
     "metadata": {},
     "output_type": "execute_result"
    }
   ],
   "source": [
    "d1.get(6)"
   ]
  },
  {
   "cell_type": "code",
   "execution_count": 24,
   "id": "caf2210e-23c9-472c-ab8b-4c3393ed6860",
   "metadata": {},
   "outputs": [],
   "source": [
    "d1.get('six')"
   ]
  },
  {
   "cell_type": "code",
   "execution_count": 23,
   "id": "721603cd-1417-4c71-8b6a-c44712fd1c65",
   "metadata": {},
   "outputs": [
    {
     "data": {
      "text/plain": [
       "{1: 'one', 2: 'two', 3: 'three', 4: 'four', 5: 'five', 6: 'six'}"
      ]
     },
     "execution_count": 23,
     "metadata": {},
     "output_type": "execute_result"
    }
   ],
   "source": [
    "d1"
   ]
  },
  {
   "cell_type": "code",
   "execution_count": 25,
   "id": "a8a58fb4-0f10-455e-b8c8-b98d2ca34b76",
   "metadata": {},
   "outputs": [
    {
     "data": {
      "text/plain": [
       "dict_items([(1, 'one'), (2, 'two'), (3, 'three'), (4, 'four'), (5, 'five'), (6, 'six')])"
      ]
     },
     "execution_count": 25,
     "metadata": {},
     "output_type": "execute_result"
    }
   ],
   "source": [
    "d1.items()  #get list of items"
   ]
  },
  {
   "cell_type": "code",
   "execution_count": 26,
   "id": "f66598bb-f92e-4c20-853a-be710d3ce4bb",
   "metadata": {},
   "outputs": [
    {
     "data": {
      "text/plain": [
       "6"
      ]
     },
     "execution_count": 26,
     "metadata": {},
     "output_type": "execute_result"
    }
   ],
   "source": [
    "len(d1.items())"
   ]
  },
  {
   "cell_type": "code",
   "execution_count": 28,
   "id": "0bf8489e-b97c-48cb-a861-dbc4c2c247eb",
   "metadata": {},
   "outputs": [
    {
     "data": {
      "text/plain": [
       "dict_keys([1, 2, 3, 4, 5, 6])"
      ]
     },
     "execution_count": 28,
     "metadata": {},
     "output_type": "execute_result"
    }
   ],
   "source": [
    "d1.keys()"
   ]
  },
  {
   "cell_type": "code",
   "execution_count": 29,
   "id": "fe2b6f61-b5ab-4a60-ac03-0c24b5a99c9f",
   "metadata": {},
   "outputs": [
    {
     "data": {
      "text/plain": [
       "dict_values(['one', 'two', 'three', 'four', 'five', 'six'])"
      ]
     },
     "execution_count": 29,
     "metadata": {},
     "output_type": "execute_result"
    }
   ],
   "source": [
    "d1.values()"
   ]
  },
  {
   "cell_type": "code",
   "execution_count": 30,
   "id": "5c47fef1-3a32-4bd5-a54e-a6349a287d9a",
   "metadata": {},
   "outputs": [
    {
     "data": {
      "text/plain": [
       "'one'"
      ]
     },
     "execution_count": 30,
     "metadata": {},
     "output_type": "execute_result"
    }
   ],
   "source": [
    "d1[1]"
   ]
  },
  {
   "cell_type": "code",
   "execution_count": 32,
   "id": "2fc447c9-fb10-4490-914a-837e88351402",
   "metadata": {},
   "outputs": [],
   "source": [
    "d1[1] =\"zero\""
   ]
  },
  {
   "cell_type": "code",
   "execution_count": 33,
   "id": "e36f9916-66f7-4875-9cfa-c92fbed8eb05",
   "metadata": {},
   "outputs": [
    {
     "data": {
      "text/plain": [
       "{1: 'zero', 2: 'two', 3: 'three', 4: 'four', 5: 'five', 6: 'six'}"
      ]
     },
     "execution_count": 33,
     "metadata": {},
     "output_type": "execute_result"
    }
   ],
   "source": [
    "d1"
   ]
  },
  {
   "cell_type": "code",
   "execution_count": 35,
   "id": "8016fba0-b93a-4139-9ff7-4521819ca8b8",
   "metadata": {},
   "outputs": [
    {
     "data": {
      "text/plain": [
       "'six'"
      ]
     },
     "execution_count": 35,
     "metadata": {},
     "output_type": "execute_result"
    }
   ],
   "source": [
    "d1.pop(6) # user must assign key to pop"
   ]
  },
  {
   "cell_type": "code",
   "execution_count": 36,
   "id": "dfd38663-37e8-4777-978d-64879b8e07a7",
   "metadata": {},
   "outputs": [
    {
     "data": {
      "text/plain": [
       "{1: 'zero', 2: 'two', 3: 'three', 4: 'four', 5: 'five'}"
      ]
     },
     "execution_count": 36,
     "metadata": {},
     "output_type": "execute_result"
    }
   ],
   "source": [
    "d1"
   ]
  },
  {
   "cell_type": "code",
   "execution_count": 38,
   "id": "6643d901-3229-40f4-8e54-0d277764636e",
   "metadata": {},
   "outputs": [
    {
     "data": {
      "text/plain": [
       "(5, 'five')"
      ]
     },
     "execution_count": 38,
     "metadata": {},
     "output_type": "execute_result"
    }
   ],
   "source": [
    "d1.popitem() # random key and value is deleted"
   ]
  },
  {
   "cell_type": "code",
   "execution_count": 39,
   "id": "3b9f02ae-982c-4ae1-8999-f1252ff70391",
   "metadata": {},
   "outputs": [
    {
     "data": {
      "text/plain": [
       "2125654407296"
      ]
     },
     "execution_count": 39,
     "metadata": {},
     "output_type": "execute_result"
    }
   ],
   "source": [
    "id(d1)"
   ]
  },
  {
   "cell_type": "code",
   "execution_count": 40,
   "id": "f21fed6d-401d-47fe-ba33-ce04b61a06ac",
   "metadata": {},
   "outputs": [
    {
     "data": {
      "text/plain": [
       "2125644794624"
      ]
     },
     "execution_count": 40,
     "metadata": {},
     "output_type": "execute_result"
    }
   ],
   "source": [
    "id(d2)"
   ]
  },
  {
   "cell_type": "code",
   "execution_count": 41,
   "id": "8cb95ca6-8f6b-4dd6-9c97-bc637ec5cd1b",
   "metadata": {},
   "outputs": [
    {
     "name": "stdout",
     "output_type": "stream",
     "text": [
      "1\n",
      "2\n",
      "3\n",
      "4\n"
     ]
    }
   ],
   "source": [
    "for i in d1:   #only keys we got\n",
    "    print(i)"
   ]
  },
  {
   "cell_type": "code",
   "execution_count": 45,
   "id": "252d11c2-9800-4a25-95c8-884a943e7375",
   "metadata": {},
   "outputs": [
    {
     "name": "stdout",
     "output_type": "stream",
     "text": [
      "1 : zero\n",
      "2 : two\n",
      "3 : three\n",
      "4 : four\n"
     ]
    }
   ],
   "source": [
    "for i in d1:\n",
    "    print(i , ':',d1[i])"
   ]
  },
  {
   "cell_type": "code",
   "execution_count": 46,
   "id": "d744da30-532d-4b0b-a496-3a0056af28d7",
   "metadata": {},
   "outputs": [
    {
     "data": {
      "text/plain": [
       "True"
      ]
     },
     "execution_count": 46,
     "metadata": {},
     "output_type": "execute_result"
    }
   ],
   "source": [
    "1 in d1"
   ]
  },
  {
   "cell_type": "code",
   "execution_count": 47,
   "id": "352e030e-b189-4b94-b527-6d1c66f7e402",
   "metadata": {},
   "outputs": [
    {
     "data": {
      "text/plain": [
       "False"
      ]
     },
     "execution_count": 47,
     "metadata": {},
     "output_type": "execute_result"
    }
   ],
   "source": [
    "100 in d1"
   ]
  }
 ],
 "metadata": {
  "kernelspec": {
   "display_name": "Python 3 (ipykernel)",
   "language": "python",
   "name": "python3"
  },
  "language_info": {
   "codemirror_mode": {
    "name": "ipython",
    "version": 3
   },
   "file_extension": ".py",
   "mimetype": "text/x-python",
   "name": "python",
   "nbconvert_exporter": "python",
   "pygments_lexer": "ipython3",
   "version": "3.12.7"
  }
 },
 "nbformat": 4,
 "nbformat_minor": 5
}
