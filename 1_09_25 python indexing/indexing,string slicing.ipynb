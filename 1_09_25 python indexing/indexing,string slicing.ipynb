{
 "cells": [
  {
   "cell_type": "markdown",
   "id": "0c60211a-d025-43a3-81d0-76fea4e5eeb1",
   "metadata": {},
   "source": [
    "# forward indexing , backward indexing "
   ]
  },
  {
   "cell_type": "code",
   "execution_count": 1,
   "id": "e7d62326-6a7a-4d93-981e-8ad84cd29b8a",
   "metadata": {},
   "outputs": [
    {
     "data": {
      "text/plain": [
       "'a3max'"
      ]
     },
     "execution_count": 1,
     "metadata": {},
     "output_type": "execute_result"
    }
   ],
   "source": [
    "index = 'a3max'\n",
    "index"
   ]
  },
  {
   "cell_type": "code",
   "execution_count": 2,
   "id": "b6181e87-065f-49d7-a036-9c9a63772304",
   "metadata": {},
   "outputs": [
    {
     "data": {
      "text/plain": [
       "'a'"
      ]
     },
     "execution_count": 2,
     "metadata": {},
     "output_type": "execute_result"
    }
   ],
   "source": [
    "index[0]"
   ]
  },
  {
   "cell_type": "code",
   "execution_count": 3,
   "id": "832ffe73-03db-420c-b73a-4bada3365c50",
   "metadata": {},
   "outputs": [
    {
     "data": {
      "text/plain": [
       "'m'"
      ]
     },
     "execution_count": 3,
     "metadata": {},
     "output_type": "execute_result"
    }
   ],
   "source": [
    "index[-3]"
   ]
  },
  {
   "cell_type": "code",
   "execution_count": 4,
   "id": "af819b30-6ce9-4f1d-8549-f2b7544f3dbe",
   "metadata": {},
   "outputs": [
    {
     "data": {
      "text/plain": [
       "'max'"
      ]
     },
     "execution_count": 4,
     "metadata": {},
     "output_type": "execute_result"
    }
   ],
   "source": [
    "index[2:]"
   ]
  },
  {
   "cell_type": "code",
   "execution_count": 5,
   "id": "756f4f0e-0e94-47c1-9113-f79c903fbc9a",
   "metadata": {},
   "outputs": [
    {
     "data": {
      "text/plain": [
       "'m'"
      ]
     },
     "execution_count": 5,
     "metadata": {},
     "output_type": "execute_result"
    }
   ],
   "source": [
    "index[2:3]"
   ]
  },
  {
   "cell_type": "code",
   "execution_count": 6,
   "id": "9c44f743-f274-4851-9a6b-09255d42a8a9",
   "metadata": {},
   "outputs": [
    {
     "data": {
      "text/plain": [
       "'ma'"
      ]
     },
     "execution_count": 6,
     "metadata": {},
     "output_type": "execute_result"
    }
   ],
   "source": [
    "index[2:4]"
   ]
  },
  {
   "cell_type": "code",
   "execution_count": 7,
   "id": "b84fbc93-0df9-48bd-a098-fda89b946c37",
   "metadata": {},
   "outputs": [
    {
     "data": {
      "text/plain": [
       "'a3ma'"
      ]
     },
     "execution_count": 7,
     "metadata": {},
     "output_type": "execute_result"
    }
   ],
   "source": [
    "index[0:4]"
   ]
  },
  {
   "cell_type": "code",
   "execution_count": 8,
   "id": "1d22ea2f-9190-4c74-b7bc-481acb8e5f4c",
   "metadata": {},
   "outputs": [
    {
     "data": {
      "text/plain": [
       "'a3max'"
      ]
     },
     "execution_count": 8,
     "metadata": {},
     "output_type": "execute_result"
    }
   ],
   "source": [
    "index[:5]"
   ]
  },
  {
   "cell_type": "code",
   "execution_count": 9,
   "id": "d84ae238-07b3-4cbf-ab36-22449f2ee780",
   "metadata": {},
   "outputs": [
    {
     "data": {
      "text/plain": [
       "'a'"
      ]
     },
     "execution_count": 9,
     "metadata": {},
     "output_type": "execute_result"
    }
   ],
   "source": [
    "index[0:2:4]"
   ]
  },
  {
   "cell_type": "code",
   "execution_count": 10,
   "id": "61fc1f71-ff41-4505-8de9-31a64f6ad561",
   "metadata": {},
   "outputs": [
    {
     "data": {
      "text/plain": [
       "'Helllopython'"
      ]
     },
     "execution_count": 10,
     "metadata": {},
     "output_type": "execute_result"
    }
   ],
   "source": [
    "ind ='Helllopython'\n",
    "ind"
   ]
  },
  {
   "cell_type": "code",
   "execution_count": 11,
   "id": "1619b317-6a78-4f44-8cb5-b2f6466ce42c",
   "metadata": {},
   "outputs": [
    {
     "data": {
      "text/plain": [
       "'Helllopython'"
      ]
     },
     "execution_count": 11,
     "metadata": {},
     "output_type": "execute_result"
    }
   ],
   "source": [
    "ind[:]        #get all the values"
   ]
  },
  {
   "cell_type": "code",
   "execution_count": 12,
   "id": "7e575cfc-7c76-46f9-971b-6362c69cd081",
   "metadata": {},
   "outputs": [
    {
     "data": {
      "text/plain": [
       "'elllopython'"
      ]
     },
     "execution_count": 12,
     "metadata": {},
     "output_type": "execute_result"
    }
   ],
   "source": [
    "ind [1:]"
   ]
  },
  {
   "cell_type": "code",
   "execution_count": 13,
   "id": "8f45b04f-052b-4881-b3f7-e96ea77ec78d",
   "metadata": {},
   "outputs": [
    {
     "data": {
      "text/plain": [
       "'Helllopy'"
      ]
     },
     "execution_count": 13,
     "metadata": {},
     "output_type": "execute_result"
    }
   ],
   "source": [
    "ind[:8]\n"
   ]
  },
  {
   "cell_type": "code",
   "execution_count": 14,
   "id": "88d07133-5755-4cae-b5da-b1671df65b14",
   "metadata": {},
   "outputs": [
    {
     "data": {
      "text/plain": [
       "'hon'"
      ]
     },
     "execution_count": 14,
     "metadata": {},
     "output_type": "execute_result"
    }
   ],
   "source": [
    "ind[-3:]"
   ]
  },
  {
   "cell_type": "code",
   "execution_count": 15,
   "id": "048cafb6-9f37-45f5-b8f2-c63c4a299f22",
   "metadata": {},
   "outputs": [
    {
     "data": {
      "text/plain": [
       "'Helllopyt'"
      ]
     },
     "execution_count": 15,
     "metadata": {},
     "output_type": "execute_result"
    }
   ],
   "source": [
    "ind[:-3]"
   ]
  },
  {
   "cell_type": "code",
   "execution_count": 17,
   "id": "158c85bf-8ca8-4e8d-befd-381d9680f840",
   "metadata": {},
   "outputs": [
    {
     "data": {
      "text/plain": [
       "'hello python'"
      ]
     },
     "execution_count": 17,
     "metadata": {},
     "output_type": "execute_result"
    }
   ],
   "source": [
    "str1 ='hello python'\n",
    "str1"
   ]
  },
  {
   "cell_type": "code",
   "execution_count": null,
   "id": "2f2132eb-223f-4619-9865-86f8f5ccb088",
   "metadata": {},
   "outputs": [],
   "source": [
    "#once string is defined we cannot update the string , \n",
    "#string is immutable"
   ]
  },
  {
   "cell_type": "code",
   "execution_count": 18,
   "id": "ac39f462-bfd0-445b-bb71-93c55db253be",
   "metadata": {},
   "outputs": [],
   "source": [
    "del str1"
   ]
  },
  {
   "cell_type": "code",
   "execution_count": 19,
   "id": "b3cec2e6-68e5-4da9-99fd-d0cb00fc33fe",
   "metadata": {},
   "outputs": [
    {
     "ename": "NameError",
     "evalue": "name 'str1' is not defined",
     "output_type": "error",
     "traceback": [
      "\u001b[1;31m---------------------------------------------------------------------------\u001b[0m",
      "\u001b[1;31mNameError\u001b[0m                                 Traceback (most recent call last)",
      "Cell \u001b[1;32mIn[19], line 1\u001b[0m\n\u001b[1;32m----> 1\u001b[0m str1\n",
      "\u001b[1;31mNameError\u001b[0m: name 'str1' is not defined"
     ]
    }
   ],
   "source": [
    "str1"
   ]
  },
  {
   "cell_type": "code",
   "execution_count": 20,
   "id": "f837cd26-3009-4a5f-83bc-d08c02cbbc99",
   "metadata": {},
   "outputs": [
    {
     "data": {
      "text/plain": [
       "'Helllopython'"
      ]
     },
     "execution_count": 20,
     "metadata": {},
     "output_type": "execute_result"
    }
   ],
   "source": [
    "ind"
   ]
  },
  {
   "cell_type": "code",
   "execution_count": 21,
   "id": "81cfddba-a52f-42bd-bb9f-172ad9ac9e74",
   "metadata": {},
   "outputs": [
    {
     "data": {
      "text/plain": [
       "'a3max'"
      ]
     },
     "execution_count": 21,
     "metadata": {},
     "output_type": "execute_result"
    }
   ],
   "source": [
    "index"
   ]
  },
  {
   "cell_type": "code",
   "execution_count": 22,
   "id": "82a4977c-0d5b-499f-ac1c-dbc8049d32c4",
   "metadata": {},
   "outputs": [
    {
     "data": {
      "text/plain": [
       "'a3max'"
      ]
     },
     "execution_count": 22,
     "metadata": {},
     "output_type": "execute_result"
    }
   ],
   "source": [
    "index[0:10]"
   ]
  },
  {
   "cell_type": "code",
   "execution_count": 23,
   "id": "d66ab1a4-a25f-4164-a1ce-bc4d0f1976b5",
   "metadata": {},
   "outputs": [
    {
     "data": {
      "text/plain": [
       "'amx'"
      ]
     },
     "execution_count": 23,
     "metadata": {},
     "output_type": "execute_result"
    }
   ],
   "source": [
    "index[0:10:2] #step indexing"
   ]
  },
  {
   "cell_type": "code",
   "execution_count": 25,
   "id": "03f9fc59-18ae-4ddb-810e-0ebf6d02c4d1",
   "metadata": {},
   "outputs": [
    {
     "data": {
      "text/plain": [
       "'ax'"
      ]
     },
     "execution_count": 25,
     "metadata": {},
     "output_type": "execute_result"
    }
   ],
   "source": [
    "index[0:5:4]"
   ]
  },
  {
   "cell_type": "markdown",
   "id": "e9a5a4c6-605b-4e72-bd41-eab2e9e65df6",
   "metadata": {},
   "source": [
    "# string concat"
   ]
  },
  {
   "cell_type": "code",
   "execution_count": 26,
   "id": "3020d3e3-afab-43fa-a767-bfe4608c5726",
   "metadata": {},
   "outputs": [
    {
     "data": {
      "text/plain": [
       "'helloall'"
      ]
     },
     "execution_count": 26,
     "metadata": {},
     "output_type": "execute_result"
    }
   ],
   "source": [
    "'hello' 'all'"
   ]
  },
  {
   "cell_type": "code",
   "execution_count": 27,
   "id": "fbfd4435-654c-4141-bd94-d9046018c6da",
   "metadata": {},
   "outputs": [
    {
     "data": {
      "text/plain": [
       "'helloall'"
      ]
     },
     "execution_count": 27,
     "metadata": {},
     "output_type": "execute_result"
    }
   ],
   "source": [
    "'hello' + 'all'"
   ]
  },
  {
   "cell_type": "code",
   "execution_count": 29,
   "id": "19cea2c4-f325-4da4-aea3-6006d610d12c",
   "metadata": {},
   "outputs": [
    {
     "data": {
      "text/plain": [
       "'hello all'"
      ]
     },
     "execution_count": 29,
     "metadata": {},
     "output_type": "execute_result"
    }
   ],
   "source": [
    "'hello' +' ' +'all'"
   ]
  },
  {
   "cell_type": "markdown",
   "id": "1c191ed9-55d2-4a54-9a25-6bec378b88fa",
   "metadata": {},
   "source": [
    "# Print"
   ]
  },
  {
   "cell_type": "code",
   "execution_count": 30,
   "id": "384957d3-9833-403c-baf2-fb61aa6fb30a",
   "metadata": {},
   "outputs": [
    {
     "data": {
      "text/plain": [
       "20"
      ]
     },
     "execution_count": 30,
     "metadata": {},
     "output_type": "execute_result"
    }
   ],
   "source": [
    "a=10\n",
    "b=20\n",
    "a\n",
    "b"
   ]
  },
  {
   "cell_type": "code",
   "execution_count": 31,
   "id": "03f74eb9-0b1c-43ec-a144-3a34f2530959",
   "metadata": {},
   "outputs": [
    {
     "name": "stdout",
     "output_type": "stream",
     "text": [
      "10\n"
     ]
    }
   ],
   "source": [
    "print(10)"
   ]
  },
  {
   "cell_type": "code",
   "execution_count": 33,
   "id": "88ad3005-f46e-473d-ad6f-00d18eb3834c",
   "metadata": {},
   "outputs": [
    {
     "name": "stdout",
     "output_type": "stream",
     "text": [
      "10\n"
     ]
    }
   ],
   "source": [
    " print(10)"
   ]
  },
  {
   "cell_type": "code",
   "execution_count": 34,
   "id": "57d6b5c8-d2a1-4cbb-b8b5-bd29f211905c",
   "metadata": {},
   "outputs": [
    {
     "name": "stdout",
     "output_type": "stream",
     "text": [
      "python\n"
     ]
    }
   ],
   "source": [
    "print('python')"
   ]
  },
  {
   "cell_type": "markdown",
   "id": "36a0af3d-d10e-40b1-9a10-b8ea36f3c7d0",
   "metadata": {},
   "source": [
    "# print result with string"
   ]
  },
  {
   "cell_type": "code",
   "execution_count": 37,
   "id": "e8a65ff7-0889-4b3c-b6b4-12c2d5119a8b",
   "metadata": {},
   "outputs": [
    {
     "name": "stdout",
     "output_type": "stream",
     "text": [
      "The Addition of 20 and 30 is= 50\n"
     ]
    }
   ],
   "source": [
    "n1 = 20 \n",
    "n2 = 30\n",
    "add = n1+n2\n",
    "print('The Addition of',n1, 'and' , n2, 'is=' ,add)"
   ]
  },
  {
   "cell_type": "markdown",
   "id": "26e6e415-3928-4f2a-be14-0075dd0d35df",
   "metadata": {},
   "source": [
    "# print format method\n",
    "\n",
    "#.format is used \n",
    "#"
   ]
  },
  {
   "cell_type": "code",
   "execution_count": 38,
   "id": "3db56d33-2aa6-4a2a-a3f5-d0d0c2473723",
   "metadata": {},
   "outputs": [
    {
     "name": "stdout",
     "output_type": "stream",
     "text": [
      "the addition of 10 and 45 = 55\n"
     ]
    }
   ],
   "source": [
    "n1 = 10\n",
    "n2 = 45\n",
    "add =n1+n2\n",
    "print('the addition of {} and {} = {}'.format(n1,n2,add))"
   ]
  },
  {
   "cell_type": "code",
   "execution_count": 43,
   "id": "9dc4366d-6405-4f0f-8c90-5fdca67a8fb7",
   "metadata": {},
   "outputs": [
    {
     "name": "stdout",
     "output_type": "stream",
     "text": [
      "hello good morning\n"
     ]
    }
   ],
   "source": [
    "print('hello', end=' ')\n",
    "print('good morning')"
   ]
  },
  {
   "cell_type": "code",
   "execution_count": null,
   "id": "e61e71af-ca17-45ba-83fa-21e656961ec2",
   "metadata": {},
   "outputs": [],
   "source": []
  },
  {
   "cell_type": "code",
   "execution_count": null,
   "id": "cef40895-9dc2-4e89-9ebe-9d7c81e389ac",
   "metadata": {},
   "outputs": [],
   "source": []
  },
  {
   "cell_type": "code",
   "execution_count": null,
   "id": "d849d517-4714-4add-b3b9-12993b918bae",
   "metadata": {},
   "outputs": [],
   "source": []
  }
 ],
 "metadata": {
  "kernelspec": {
   "display_name": "Python 3 (ipykernel)",
   "language": "python",
   "name": "python3"
  },
  "language_info": {
   "codemirror_mode": {
    "name": "ipython",
    "version": 3
   },
   "file_extension": ".py",
   "mimetype": "text/x-python",
   "name": "python",
   "nbconvert_exporter": "python",
   "pygments_lexer": "ipython3",
   "version": "3.12.7"
  }
 },
 "nbformat": 4,
 "nbformat_minor": 5
}
